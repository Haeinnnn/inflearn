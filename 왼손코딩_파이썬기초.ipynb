{
  "nbformat": 4,
  "nbformat_minor": 0,
  "metadata": {
    "colab": {
      "provenance": []
    },
    "kernelspec": {
      "name": "python3",
      "display_name": "Python 3"
    },
    "language_info": {
      "name": "python"
    }
  },
  "cells": [
    {
      "cell_type": "code",
      "execution_count": null,
      "metadata": {
        "colab": {
          "base_uri": "https://localhost:8080/"
        },
        "id": "_M9i22nYMFln",
        "outputId": "99216611-f7c4-4980-86ed-55884674b05c"
      },
      "outputs": [
        {
          "output_type": "stream",
          "name": "stdout",
          "text": [
            "hello world\n"
          ]
        }
      ],
      "source": [
        "print(\"hello world\")"
      ]
    },
    {
      "cell_type": "code",
      "source": [
        "1+12\n"
      ],
      "metadata": {
        "colab": {
          "base_uri": "https://localhost:8080/"
        },
        "id": "lJNKdaNwMH3-",
        "outputId": "d847486a-d06b-4919-ebfa-b172a5d65703"
      },
      "execution_count": null,
      "outputs": [
        {
          "output_type": "execute_result",
          "data": {
            "text/plain": [
              "13"
            ]
          },
          "metadata": {},
          "execution_count": 2
        }
      ]
    },
    {
      "cell_type": "code",
      "source": [
        "import random\n",
        "\n",
        "print(random.randint(1,10))"
      ],
      "metadata": {
        "colab": {
          "base_uri": "https://localhost:8080/"
        },
        "id": "TDPbz6I8MNG0",
        "outputId": "ef7c698a-3bcf-43ea-cfc8-d9160b6c9842"
      },
      "execution_count": null,
      "outputs": [
        {
          "output_type": "stream",
          "name": "stdout",
          "text": [
            "5\n"
          ]
        }
      ]
    },
    {
      "cell_type": "code",
      "source": [
        "my_list = [1, 2, 3]"
      ],
      "metadata": {
        "id": "TuKU-HHzNCyG"
      },
      "execution_count": null,
      "outputs": []
    },
    {
      "cell_type": "code",
      "source": [
        "for i in my_list : \n",
        "  print(i)\n",
        "\n",
        "  # 소괄호는 문법이고 약속임"
      ],
      "metadata": {
        "colab": {
          "base_uri": "https://localhost:8080/"
        },
        "id": "vOWs8S80NbuU",
        "outputId": "8c13e433-d871-4477-8672-c87576282c9b"
      },
      "execution_count": null,
      "outputs": [
        {
          "output_type": "stream",
          "name": "stdout",
          "text": [
            "1\n",
            "2\n",
            "3\n"
          ]
        }
      ]
    },
    {
      "cell_type": "code",
      "source": [
        "print(1,2,3)\n",
        "print(1, 2, 3) # print : 출력 / input : 입력"
      ],
      "metadata": {
        "colab": {
          "base_uri": "https://localhost:8080/"
        },
        "id": "Cbnb3RNRNfdX",
        "outputId": "b9f31fb2-db3e-41a0-8e0a-eb8fa2dc41f1"
      },
      "execution_count": null,
      "outputs": [
        {
          "output_type": "stream",
          "name": "stdout",
          "text": [
            "1 2 3\n",
            "1 2 3\n"
          ]
        }
      ]
    },
    {
      "cell_type": "code",
      "source": [
        "input() # 입력을 기다리고 있음"
      ],
      "metadata": {
        "colab": {
          "base_uri": "https://localhost:8080/",
          "height": 54
        },
        "id": "_yo-FKrTO6PK",
        "outputId": "004ec930-6dd1-42f9-c358-d401853e5708"
      },
      "execution_count": null,
      "outputs": [
        {
          "name": "stdout",
          "output_type": "stream",
          "text": [
            "입력\n"
          ]
        },
        {
          "output_type": "execute_result",
          "data": {
            "text/plain": [
              "'입력'"
            ],
            "application/vnd.google.colaboratory.intrinsic+json": {
              "type": "string"
            }
          },
          "metadata": {},
          "execution_count": 7
        }
      ]
    },
    {
      "cell_type": "code",
      "source": [
        "input(\"이름을 입력!\")"
      ],
      "metadata": {
        "colab": {
          "base_uri": "https://localhost:8080/",
          "height": 54
        },
        "id": "vndVTNJlP31U",
        "outputId": "ba928ae7-6cea-455c-f04c-9d048327b2fb"
      },
      "execution_count": null,
      "outputs": [
        {
          "name": "stdout",
          "output_type": "stream",
          "text": [
            "이름을 입력!이름\n"
          ]
        },
        {
          "output_type": "execute_result",
          "data": {
            "text/plain": [
              "'이름'"
            ],
            "application/vnd.google.colaboratory.intrinsic+json": {
              "type": "string"
            }
          },
          "metadata": {},
          "execution_count": 8
        }
      ]
    },
    {
      "cell_type": "code",
      "source": [
        "input(\"당신의 나이는?\")"
      ],
      "metadata": {
        "colab": {
          "base_uri": "https://localhost:8080/",
          "height": 54
        },
        "id": "lKp3_35MQZSz",
        "outputId": "6b7da9ac-b909-4498-a8d4-b29e95f1d78b"
      },
      "execution_count": null,
      "outputs": [
        {
          "name": "stdout",
          "output_type": "stream",
          "text": [
            "당신의 나이는?나이\n"
          ]
        },
        {
          "output_type": "execute_result",
          "data": {
            "text/plain": [
              "'나이'"
            ],
            "application/vnd.google.colaboratory.intrinsic+json": {
              "type": "string"
            }
          },
          "metadata": {},
          "execution_count": 9
        }
      ]
    },
    {
      "cell_type": "code",
      "source": [
        "age = input(\"당신의 나이는?\")"
      ],
      "metadata": {
        "colab": {
          "base_uri": "https://localhost:8080/"
        },
        "id": "I3DnxYBeQkR7",
        "outputId": "14ec983c-844e-418a-97eb-45f82f3dda41"
      },
      "execution_count": null,
      "outputs": [
        {
          "name": "stdout",
          "output_type": "stream",
          "text": [
            "당신의 나이는?나이\n"
          ]
        }
      ]
    },
    {
      "cell_type": "code",
      "source": [
        "age"
      ],
      "metadata": {
        "colab": {
          "base_uri": "https://localhost:8080/",
          "height": 35
        },
        "id": "tyCb2H3bQtmU",
        "outputId": "119dbfa9-70dc-48c1-8d9a-2f474ce32757"
      },
      "execution_count": null,
      "outputs": [
        {
          "output_type": "execute_result",
          "data": {
            "text/plain": [
              "'나이'"
            ],
            "application/vnd.google.colaboratory.intrinsic+json": {
              "type": "string"
            }
          },
          "metadata": {},
          "execution_count": 11
        }
      ]
    },
    {
      "cell_type": "code",
      "source": [
        "# 파이썬 다운로드\n",
        "\n",
        "# 개발자는 파이썬 홈페이지에서 2점대받고\n",
        "# 2.7 이후의 업데이트 버전은 없음!\n",
        "\n",
        "# 그런거 상관없는 초보는 3점대 받아야함\n"
      ],
      "metadata": {
        "id": "DjRmNKIfQvQf"
      },
      "execution_count": null,
      "outputs": []
    },
    {
      "cell_type": "code",
      "source": [
        "# variable = 변수\n",
        "# 값을 저장하려면 = 을 써야함~ 값을 할당한다!\n",
        "# 변할 수 있기 때문에 변수라고 함!\n",
        "\n",
        "# 파이썬도 객체지향언어고 class 가 있음\n",
        "# 파이썬 튜터라는 사이트가있음~ 실제로 메모리가 어떻게 돌고있는지 볼 수 있음\n",
        "\n",
        "# my_int가 1이 저장된 공간을 참조함\n",
        "# 대문자 소문자를 구분하고, 한글도 됨\n",
        "# 변수명은 숫자로 시작할 수 없고, 띄어쓰기 x\n"
      ],
      "metadata": {
        "id": "RuL_xatD3Zg0"
      },
      "execution_count": null,
      "outputs": []
    },
    {
      "cell_type": "code",
      "source": [
        "my_float = 3.14"
      ],
      "metadata": {
        "id": "enObWFzeA6g6"
      },
      "execution_count": null,
      "outputs": []
    },
    {
      "cell_type": "code",
      "source": [
        "type(my_float)"
      ],
      "metadata": {
        "colab": {
          "base_uri": "https://localhost:8080/"
        },
        "id": "iqKQUSxfA7Wq",
        "outputId": "0cf7cb24-a244-4ff4-eb01-b436de1b6af6"
      },
      "execution_count": null,
      "outputs": [
        {
          "output_type": "execute_result",
          "data": {
            "text/plain": [
              "float"
            ]
          },
          "metadata": {},
          "execution_count": 15
        }
      ]
    },
    {
      "cell_type": "code",
      "source": [
        "# int, float = 숫자\n",
        "# string 문자열\n",
        "# boolean 예, 아니오"
      ],
      "metadata": {
        "id": "7bajkxCgA8h_"
      },
      "execution_count": null,
      "outputs": []
    },
    {
      "cell_type": "code",
      "source": [
        "# 다양한 자료형을 모아서 list [] 대괄호 , 한꺼번에 모든 타입 수용가능능\n",
        "\n",
        "import random\n",
        "student = [1,2,3]\n",
        "print(random.choice(student))"
      ],
      "metadata": {
        "colab": {
          "base_uri": "https://localhost:8080/"
        },
        "id": "bxNo_cL-CDv6",
        "outputId": "2cdbb56c-9b26-42c3-ac78-d1d411145846"
      },
      "execution_count": null,
      "outputs": [
        {
          "output_type": "stream",
          "name": "stdout",
          "text": [
            "2\n"
          ]
        }
      ]
    },
    {
      "cell_type": "code",
      "source": [
        "student.append(4)"
      ],
      "metadata": {
        "id": "olksobVeCo9x"
      },
      "execution_count": null,
      "outputs": []
    },
    {
      "cell_type": "code",
      "source": [
        "for std in student :\n",
        "  print(std)"
      ],
      "metadata": {
        "colab": {
          "base_uri": "https://localhost:8080/"
        },
        "id": "mGaexHFbCt0l",
        "outputId": "40469011-ffe3-4f4a-ee1b-b264552cf941"
      },
      "execution_count": null,
      "outputs": [
        {
          "output_type": "stream",
          "name": "stdout",
          "text": [
            "1\n",
            "2\n",
            "3\n",
            "4\n"
          ]
        }
      ]
    },
    {
      "cell_type": "code",
      "source": [
        "# tuple list랑 비슷한데 값을 바꿀수가없음, 소괄호\n",
        "\n",
        "student[0] = 5\n",
        "student # 값이 바뀜"
      ],
      "metadata": {
        "colab": {
          "base_uri": "https://localhost:8080/"
        },
        "id": "pKgH16x-Cw_D",
        "outputId": "d84a885f-3e12-4e60-f699-110354e9df3c"
      },
      "execution_count": null,
      "outputs": [
        {
          "output_type": "execute_result",
          "data": {
            "text/plain": [
              "[5, 2, 3, 4]"
            ]
          },
          "metadata": {},
          "execution_count": 20
        }
      ]
    },
    {
      "cell_type": "code",
      "source": [
        "my_tuple = (1,2,3)"
      ],
      "metadata": {
        "id": "BjdeHzx7D4la"
      },
      "execution_count": null,
      "outputs": []
    },
    {
      "cell_type": "code",
      "source": [
        "# my_tuple[0] = 4 # 튜플은 안된다고 에러가 남"
      ],
      "metadata": {
        "id": "XF7_0EDjC82K"
      },
      "execution_count": null,
      "outputs": []
    },
    {
      "cell_type": "code",
      "source": [
        "# dictionary 여러개 값을 저장하는 자료형\n",
        "# 키랑 값으로 나뉘어져있음"
      ],
      "metadata": {
        "id": "BCLiNkR9DP7e"
      },
      "execution_count": null,
      "outputs": []
    },
    {
      "cell_type": "code",
      "source": [
        "my_dict = {'홍길동' : '남', '온달' : '남', '평강공주' : '여여'}"
      ],
      "metadata": {
        "id": "36hGQB9SDkob"
      },
      "execution_count": null,
      "outputs": []
    },
    {
      "cell_type": "code",
      "source": [
        "my_dict['홍길동'] # 의미있는 이름(홍길동)이 키, 성별이(값)"
      ],
      "metadata": {
        "colab": {
          "base_uri": "https://localhost:8080/",
          "height": 35
        },
        "id": "RlCt-5TuDv7t",
        "outputId": "9b6a2776-47a8-43d0-d8e0-44e11e2016a8"
      },
      "execution_count": null,
      "outputs": [
        {
          "output_type": "execute_result",
          "data": {
            "text/plain": [
              "'남'"
            ],
            "application/vnd.google.colaboratory.intrinsic+json": {
              "type": "string"
            }
          },
          "metadata": {},
          "execution_count": 26
        }
      ]
    },
    {
      "cell_type": "code",
      "source": [
        "my_dict['홍길동']= '남자' # 수정하는법"
      ],
      "metadata": {
        "id": "HcZ22n4RDzQo"
      },
      "execution_count": null,
      "outputs": []
    },
    {
      "cell_type": "code",
      "source": [
        "my_dict['홍길동']"
      ],
      "metadata": {
        "colab": {
          "base_uri": "https://localhost:8080/",
          "height": 35
        },
        "id": "QZvnG6L8ELWE",
        "outputId": "779a80d0-d26e-45a5-9c01-ca7f8ad64e38"
      },
      "execution_count": null,
      "outputs": [
        {
          "output_type": "execute_result",
          "data": {
            "text/plain": [
              "'남자'"
            ],
            "application/vnd.google.colaboratory.intrinsic+json": {
              "type": "string"
            }
          },
          "metadata": {},
          "execution_count": 28
        }
      ]
    },
    {
      "cell_type": "code",
      "source": [
        "my_int = 1\n",
        "type(my_int) # 타입을 확인함"
      ],
      "metadata": {
        "colab": {
          "base_uri": "https://localhost:8080/"
        },
        "id": "1Y-ivlLUENZQ",
        "outputId": "272c05b7-1612-4b53-d087-f967769794d2"
      },
      "execution_count": null,
      "outputs": [
        {
          "output_type": "execute_result",
          "data": {
            "text/plain": [
              "int"
            ]
          },
          "metadata": {},
          "execution_count": 29
        }
      ]
    },
    {
      "cell_type": "code",
      "source": [
        "float(my_int)"
      ],
      "metadata": {
        "colab": {
          "base_uri": "https://localhost:8080/"
        },
        "id": "1FOJoJ3YGW92",
        "outputId": "17f3e20b-56b4-4115-d7e2-cc06e676bec1"
      },
      "execution_count": null,
      "outputs": [
        {
          "output_type": "execute_result",
          "data": {
            "text/plain": [
              "1.0"
            ]
          },
          "metadata": {},
          "execution_count": 30
        }
      ]
    },
    {
      "cell_type": "code",
      "source": [
        "str(my_int)\n"
      ],
      "metadata": {
        "colab": {
          "base_uri": "https://localhost:8080/",
          "height": 35
        },
        "id": "Ps5pb4msGdJX",
        "outputId": "228edbf9-9117-4706-d1a3-9603ad238a0c"
      },
      "execution_count": null,
      "outputs": [
        {
          "output_type": "execute_result",
          "data": {
            "text/plain": [
              "'1'"
            ],
            "application/vnd.google.colaboratory.intrinsic+json": {
              "type": "string"
            }
          },
          "metadata": {},
          "execution_count": 31
        }
      ]
    },
    {
      "cell_type": "code",
      "source": [
        "type(str(my_int))"
      ],
      "metadata": {
        "colab": {
          "base_uri": "https://localhost:8080/"
        },
        "id": "ndvconjmGewz",
        "outputId": "ee69fce4-1018-45b2-e4f6-33aaf17a3386"
      },
      "execution_count": null,
      "outputs": [
        {
          "output_type": "execute_result",
          "data": {
            "text/plain": [
              "str"
            ]
          },
          "metadata": {},
          "execution_count": 33
        }
      ]
    },
    {
      "cell_type": "code",
      "source": [
        "my_str = \"coding\""
      ],
      "metadata": {
        "id": "VXV-TQvKGjiv"
      },
      "execution_count": null,
      "outputs": []
    },
    {
      "cell_type": "code",
      "source": [
        "list(my_str) # 강제로 변환되어 값들이 하나씩 뽑혀옴"
      ],
      "metadata": {
        "colab": {
          "base_uri": "https://localhost:8080/"
        },
        "id": "M0Eu6qDAGqE8",
        "outputId": "8eeb4617-c23a-461d-d0a7-e0c62543ba63"
      },
      "execution_count": null,
      "outputs": [
        {
          "output_type": "execute_result",
          "data": {
            "text/plain": [
              "['c', 'o', 'd', 'i', 'n', 'g']"
            ]
          },
          "metadata": {},
          "execution_count": 35
        }
      ]
    },
    {
      "cell_type": "code",
      "source": [
        "my_str = \"띄어쓰기 가능 여러줄은 안됨\"\n",
        "my_str"
      ],
      "metadata": {
        "colab": {
          "base_uri": "https://localhost:8080/",
          "height": 35
        },
        "id": "q_iEwjACGq4S",
        "outputId": "4f68d623-637f-478a-e1ed-a3a729bd512c"
      },
      "execution_count": null,
      "outputs": [
        {
          "output_type": "execute_result",
          "data": {
            "text/plain": [
              "'띄어쓰기 가능 여러줄은 안됨'"
            ],
            "application/vnd.google.colaboratory.intrinsic+json": {
              "type": "string"
            }
          },
          "metadata": {},
          "execution_count": 36
        }
      ]
    },
    {
      "cell_type": "code",
      "source": [
        "my_str = \"\"\"하나\n",
        "둘\n",
        "셋\"\"\""
      ],
      "metadata": {
        "id": "bNI-5bkbHfrg"
      },
      "execution_count": null,
      "outputs": []
    },
    {
      "cell_type": "code",
      "source": [
        "my_str # 줄바꿈을 저장 가능\n"
      ],
      "metadata": {
        "colab": {
          "base_uri": "https://localhost:8080/",
          "height": 35
        },
        "id": "x7_e9UyNHou-",
        "outputId": "7001e573-71be-4724-ea18-946a2efc6f27"
      },
      "execution_count": null,
      "outputs": [
        {
          "output_type": "execute_result",
          "data": {
            "text/plain": [
              "'하나\\n둘\\n셋'"
            ],
            "application/vnd.google.colaboratory.intrinsic+json": {
              "type": "string"
            }
          },
          "metadata": {},
          "execution_count": 38
        }
      ]
    },
    {
      "cell_type": "code",
      "source": [
        "# 문자열 formatting 좀 더 잘 표현하기 위해서서"
      ],
      "metadata": {
        "id": "pirrv8azH4qf"
      },
      "execution_count": null,
      "outputs": []
    },
    {
      "cell_type": "code",
      "source": [
        "my_name = 'my name is %s' % 'kim'"
      ],
      "metadata": {
        "id": "7jZdVkmsICaK"
      },
      "execution_count": null,
      "outputs": []
    },
    {
      "cell_type": "code",
      "source": [
        "my_name # 뒤에 있는게 %s에 대입됨"
      ],
      "metadata": {
        "colab": {
          "base_uri": "https://localhost:8080/",
          "height": 35
        },
        "id": "b-JKytl6IGwI",
        "outputId": "ed8dcb38-0f67-40e7-eef8-f3d3ff3a2a96"
      },
      "execution_count": null,
      "outputs": [
        {
          "output_type": "execute_result",
          "data": {
            "text/plain": [
              "'my name is kim'"
            ],
            "application/vnd.google.colaboratory.intrinsic+json": {
              "type": "string"
            }
          },
          "metadata": {},
          "execution_count": 41
        }
      ]
    },
    {
      "cell_type": "code",
      "source": [
        "'%d %d' % (1, 2) # %s 는 실수, %d 는 정수"
      ],
      "metadata": {
        "colab": {
          "base_uri": "https://localhost:8080/",
          "height": 35
        },
        "id": "Sb3lGhavIMO_",
        "outputId": "0d7a72c9-772c-431a-cfec-139a8ec605ab"
      },
      "execution_count": null,
      "outputs": [
        {
          "output_type": "execute_result",
          "data": {
            "text/plain": [
              "'1 2'"
            ],
            "application/vnd.google.colaboratory.intrinsic+json": {
              "type": "string"
            }
          },
          "metadata": {},
          "execution_count": 42
        }
      ]
    },
    {
      "cell_type": "code",
      "source": [
        "'%f' % 3.14"
      ],
      "metadata": {
        "colab": {
          "base_uri": "https://localhost:8080/",
          "height": 35
        },
        "id": "ACh6wJzrIsyf",
        "outputId": "fc667c7c-b94e-45c9-e022-0d6f4e024122"
      },
      "execution_count": null,
      "outputs": [
        {
          "output_type": "execute_result",
          "data": {
            "text/plain": [
              "'3.140000'"
            ],
            "application/vnd.google.colaboratory.intrinsic+json": {
              "type": "string"
            }
          },
          "metadata": {},
          "execution_count": 43
        }
      ]
    },
    {
      "cell_type": "code",
      "source": [
        "# 위에선 c에서 나온거고 밑엔 파이썬꺼\n",
        "# '{}'.format\n",
        "\n",
        "'my name is {}'.format('김해인')"
      ],
      "metadata": {
        "colab": {
          "base_uri": "https://localhost:8080/",
          "height": 35
        },
        "id": "8XRAyHw6IwXE",
        "outputId": "f4f6eccb-1f01-41b5-b913-164c60ca16c8"
      },
      "execution_count": null,
      "outputs": [
        {
          "output_type": "execute_result",
          "data": {
            "text/plain": [
              "'my name is 김해인'"
            ],
            "application/vnd.google.colaboratory.intrinsic+json": {
              "type": "string"
            }
          },
          "metadata": {},
          "execution_count": 44
        }
      ]
    },
    {
      "cell_type": "code",
      "source": [
        "'{} x {} = {}'.format(2,3,2*3)"
      ],
      "metadata": {
        "colab": {
          "base_uri": "https://localhost:8080/",
          "height": 35
        },
        "id": "iUBNzlc6Jkvr",
        "outputId": "b0c97098-001e-4174-c442-93a2986a899b"
      },
      "execution_count": null,
      "outputs": [
        {
          "output_type": "execute_result",
          "data": {
            "text/plain": [
              "'2 x 3 = 6'"
            ],
            "application/vnd.google.colaboratory.intrinsic+json": {
              "type": "string"
            }
          },
          "metadata": {},
          "execution_count": 45
        }
      ]
    },
    {
      "cell_type": "code",
      "source": [
        "'{1} x {0} = {2}'.format(2,3,2*3) # 맞춰서 다 써줘야함"
      ],
      "metadata": {
        "colab": {
          "base_uri": "https://localhost:8080/",
          "height": 35
        },
        "id": "s2PYPTUkJzew",
        "outputId": "bab3e2ab-fc8c-4cdd-c013-7add26d446f0"
      },
      "execution_count": null,
      "outputs": [
        {
          "output_type": "execute_result",
          "data": {
            "text/plain": [
              "'3 x 2 = 6'"
            ],
            "application/vnd.google.colaboratory.intrinsic+json": {
              "type": "string"
            }
          },
          "metadata": {},
          "execution_count": 46
        }
      ]
    },
    {
      "cell_type": "code",
      "source": [
        "#index 주소, 위치\n",
        "# 파이썬은 0부터 시작 index 2 라면 3번째꺼 불러옴\n",
        "# 0부터 쓰면 한칸이라도 더 아낄 수 있어서 그렇게 쓰는거거"
      ],
      "metadata": {
        "id": "R-46G-TjJ8bn"
      },
      "execution_count": null,
      "outputs": []
    },
    {
      "cell_type": "code",
      "source": [
        "my_index = \"나의 파이썬 공부!\" # 띄어쓰기도 할당됨"
      ],
      "metadata": {
        "id": "HOlpRF2yLIkP"
      },
      "execution_count": null,
      "outputs": []
    },
    {
      "cell_type": "code",
      "source": [
        "my_index[3]"
      ],
      "metadata": {
        "colab": {
          "base_uri": "https://localhost:8080/",
          "height": 35
        },
        "id": "oOQ70QbELT66",
        "outputId": "e77c56db-3355-4525-d48d-6a4e4a32494b"
      },
      "execution_count": null,
      "outputs": [
        {
          "output_type": "execute_result",
          "data": {
            "text/plain": [
              "'파'"
            ],
            "application/vnd.google.colaboratory.intrinsic+json": {
              "type": "string"
            }
          },
          "metadata": {},
          "execution_count": 49
        }
      ]
    },
    {
      "cell_type": "code",
      "source": [
        "my_index[2]"
      ],
      "metadata": {
        "colab": {
          "base_uri": "https://localhost:8080/",
          "height": 35
        },
        "id": "uZEQpCZfLklC",
        "outputId": "eb11b4ee-b443-4759-8675-fed149f9ae22"
      },
      "execution_count": null,
      "outputs": [
        {
          "output_type": "execute_result",
          "data": {
            "text/plain": [
              "' '"
            ],
            "application/vnd.google.colaboratory.intrinsic+json": {
              "type": "string"
            }
          },
          "metadata": {},
          "execution_count": 50
        }
      ]
    },
    {
      "cell_type": "code",
      "source": [
        "# -1부터 시작할 수도 있음 -1은 맨 오른쪽기준 왼쪽으로 갈수록 -2\n",
        "my_index[-1]\n",
        "my_index[-2]"
      ],
      "metadata": {
        "colab": {
          "base_uri": "https://localhost:8080/",
          "height": 35
        },
        "id": "GxY-CZvhLmTH",
        "outputId": "9a21c8c3-706f-4788-a1c2-5b0e98e0c442"
      },
      "execution_count": null,
      "outputs": [
        {
          "output_type": "execute_result",
          "data": {
            "text/plain": [
              "'부'"
            ],
            "application/vnd.google.colaboratory.intrinsic+json": {
              "type": "string"
            }
          },
          "metadata": {},
          "execution_count": 51
        }
      ]
    },
    {
      "cell_type": "code",
      "source": [
        "# list를 자르는게 slicing\n",
        "# 공부만 자르고 싶으면 [7:9]"
      ],
      "metadata": {
        "id": "pxEVnKA5L8Kn"
      },
      "execution_count": null,
      "outputs": []
    },
    {
      "cell_type": "code",
      "source": [
        "my_index[7:9]"
      ],
      "metadata": {
        "colab": {
          "base_uri": "https://localhost:8080/",
          "height": 35
        },
        "id": "hN1sqBdvMvcc",
        "outputId": "4f9df467-4aae-4ff0-ef0d-9fd6f73ae11a"
      },
      "execution_count": null,
      "outputs": [
        {
          "output_type": "execute_result",
          "data": {
            "text/plain": [
              "'공부'"
            ],
            "application/vnd.google.colaboratory.intrinsic+json": {
              "type": "string"
            }
          },
          "metadata": {},
          "execution_count": 53
        }
      ]
    },
    {
      "cell_type": "code",
      "source": [
        "my_index[:7] # 0부터 7까지"
      ],
      "metadata": {
        "colab": {
          "base_uri": "https://localhost:8080/",
          "height": 35
        },
        "id": "tFLSALF1Mxkm",
        "outputId": "acab3dd4-5d82-417f-dd5d-d0a9dc81ad6b"
      },
      "execution_count": null,
      "outputs": [
        {
          "output_type": "execute_result",
          "data": {
            "text/plain": [
              "'나의 파이썬 '"
            ],
            "application/vnd.google.colaboratory.intrinsic+json": {
              "type": "string"
            }
          },
          "metadata": {},
          "execution_count": 54
        }
      ]
    },
    {
      "cell_type": "code",
      "source": [
        "my_index[3:] # 3부터 끝까지"
      ],
      "metadata": {
        "colab": {
          "base_uri": "https://localhost:8080/",
          "height": 35
        },
        "id": "wphBV35RM9Cj",
        "outputId": "51928360-e542-482c-d850-4c0f841bd08e"
      },
      "execution_count": null,
      "outputs": [
        {
          "output_type": "execute_result",
          "data": {
            "text/plain": [
              "'파이썬 공부!'"
            ],
            "application/vnd.google.colaboratory.intrinsic+json": {
              "type": "string"
            }
          },
          "metadata": {},
          "execution_count": 55
        }
      ]
    },
    {
      "cell_type": "code",
      "source": [
        "my_index[:] #전부"
      ],
      "metadata": {
        "colab": {
          "base_uri": "https://localhost:8080/",
          "height": 35
        },
        "id": "8SUGmNAgNBiA",
        "outputId": "b36e1cfe-ea4b-4bbd-9ad0-cae97927128b"
      },
      "execution_count": null,
      "outputs": [
        {
          "output_type": "execute_result",
          "data": {
            "text/plain": [
              "'나의 파이썬 공부!'"
            ],
            "application/vnd.google.colaboratory.intrinsic+json": {
              "type": "string"
            }
          },
          "metadata": {},
          "execution_count": 56
        }
      ]
    },
    {
      "cell_type": "code",
      "source": [
        "# string.split()\n",
        "# 함수 : 어떤 기능을 수행하는 코드, 반복해서 쓸 수 있게\n",
        "# 메소드 : 함수인데 string들만 사용할 수 있는 함수\n",
        "\n",
        "# string이라는 자료형 함수는 split이라는 함수를 사용할 수 있다\n",
        "\n",
        "# 간단하게 구별법\n",
        "# 함수는 sum(), abs() 같이 독립적으로 사용되는 반면,\n",
        "# 메서드는 a라는 객체가 존재할 때 a.upper(), a.lower()와 같은 형태로 사용됩니다. \n"
      ],
      "metadata": {
        "id": "b_3w_U33NDQ2"
      },
      "execution_count": null,
      "outputs": []
    },
    {
      "cell_type": "code",
      "source": [
        "my_index.split() # 공백을 기준으로 잘림림"
      ],
      "metadata": {
        "colab": {
          "base_uri": "https://localhost:8080/"
        },
        "id": "E9JVVlk9OZh5",
        "outputId": "31f249c4-a82d-4bb4-a12c-bcefd9e21a0e"
      },
      "execution_count": null,
      "outputs": [
        {
          "output_type": "execute_result",
          "data": {
            "text/plain": [
              "['나의', '파이썬', '공부!']"
            ]
          },
          "metadata": {},
          "execution_count": 58
        }
      ]
    },
    {
      "cell_type": "code",
      "source": [
        "# 기본이 띄어쓰기 옵션을 줄 수 있음\n",
        "my_index.split(\" \")"
      ],
      "metadata": {
        "colab": {
          "base_uri": "https://localhost:8080/"
        },
        "id": "-1DHkzN8On0J",
        "outputId": "fc1917ed-a2ef-4b6b-b247-96e9a15d3c94"
      },
      "execution_count": null,
      "outputs": [
        {
          "output_type": "execute_result",
          "data": {
            "text/plain": [
              "['나의', '파이썬', '공부!']"
            ]
          },
          "metadata": {},
          "execution_count": 59
        }
      ]
    },
    {
      "cell_type": "code",
      "source": [
        "# 모든것은 구글에 다 있음\n",
        "\n",
        "# Docstring # 주석?\n",
        "\"\"\" 이것도 주석이다! \"\"\" # 함수 설명을 위해 쓰는 주석"
      ],
      "metadata": {
        "id": "fbyWDRtKQH-q",
        "colab": {
          "base_uri": "https://localhost:8080/",
          "height": 35
        },
        "outputId": "f47b4270-0475-409c-e533-fdb35355c675"
      },
      "execution_count": null,
      "outputs": [
        {
          "output_type": "execute_result",
          "data": {
            "text/plain": [
              "' 이것도 주석이다! '"
            ],
            "application/vnd.google.colaboratory.intrinsic+json": {
              "type": "string"
            }
          },
          "metadata": {},
          "execution_count": 60
        }
      ]
    },
    {
      "cell_type": "code",
      "source": [
        "print('', end=\"\")"
      ],
      "metadata": {
        "id": "qXseTAkWRLES"
      },
      "execution_count": null,
      "outputs": []
    },
    {
      "cell_type": "code",
      "source": [
        "print('뒤에붙이기', end=\"/\")"
      ],
      "metadata": {
        "colab": {
          "base_uri": "https://localhost:8080/"
        },
        "id": "BYs0Ey1KRz4z",
        "outputId": "eb1d43c3-26da-4fc2-d557-7ac608f4d692"
      },
      "execution_count": null,
      "outputs": [
        {
          "output_type": "stream",
          "name": "stdout",
          "text": [
            "뒤에붙이기/"
          ]
        }
      ]
    },
    {
      "cell_type": "code",
      "source": [
        "# escape code 특정한 기능을 수행하는 문자의 조합\n",
        "# \\n 엔터 / \\t 탭탭"
      ],
      "metadata": {
        "id": "5RPkRz9qR3LM"
      },
      "execution_count": null,
      "outputs": []
    },
    {
      "cell_type": "code",
      "source": [
        "print('엔터\\n,그리고탭\\t', end=\"이건보기위해붙임\")"
      ],
      "metadata": {
        "colab": {
          "base_uri": "https://localhost:8080/"
        },
        "id": "3GNfDM9ASICO",
        "outputId": "878b3f59-1006-42cb-9cd3-e81e82ac22a9"
      },
      "execution_count": null,
      "outputs": [
        {
          "output_type": "stream",
          "name": "stdout",
          "text": [
            "엔터\n",
            ",그리고탭\t이건보기위해붙임"
          ]
        }
      ]
    },
    {
      "cell_type": "code",
      "source": [
        "print('엔터\\n, 그리고탭', end = \"\\t\"); print('강의에서쓰길래')"
      ],
      "metadata": {
        "colab": {
          "base_uri": "https://localhost:8080/"
        },
        "id": "nAeFEI1dSJLc",
        "outputId": "c2a013f8-c80d-4249-9542-59fe35c27041"
      },
      "execution_count": null,
      "outputs": [
        {
          "output_type": "stream",
          "name": "stdout",
          "text": [
            "엔터\n",
            ", 그리고탭\t강의에서쓰길래\n"
          ]
        }
      ]
    },
    {
      "cell_type": "code",
      "source": [
        "# list 변수가 100개든 10만개든 저장 가능\n",
        "# 한번 넣었던거를 빼거나 수정할 수 있음\n",
        "# 이뮤터블 =  값 변경이 안됨, 뉴터블 = 값 변경이 됨"
      ],
      "metadata": {
        "id": "h3Gd9OZFShWb"
      },
      "execution_count": null,
      "outputs": []
    },
    {
      "cell_type": "code",
      "source": [
        "test_list = []"
      ],
      "metadata": {
        "id": "YfzGzHSRV8KX"
      },
      "execution_count": null,
      "outputs": []
    },
    {
      "cell_type": "code",
      "source": [
        "type(test_list)"
      ],
      "metadata": {
        "colab": {
          "base_uri": "https://localhost:8080/"
        },
        "id": "Cf3QXmtCV-38",
        "outputId": "8dc582b1-5947-4376-a1cb-a3731ff4d33e"
      },
      "execution_count": null,
      "outputs": [
        {
          "output_type": "execute_result",
          "data": {
            "text/plain": [
              "list"
            ]
          },
          "metadata": {},
          "execution_count": 68
        }
      ]
    },
    {
      "cell_type": "code",
      "source": [
        "test_list = ['문자열', 1, '숫자도ok']"
      ],
      "metadata": {
        "id": "4dJA3bTlWAC0"
      },
      "execution_count": null,
      "outputs": []
    },
    {
      "cell_type": "code",
      "source": [
        "test_list"
      ],
      "metadata": {
        "colab": {
          "base_uri": "https://localhost:8080/"
        },
        "id": "PS-cgRYMWad5",
        "outputId": "326b44ee-8229-45e3-94e2-94b796773d3f"
      },
      "execution_count": null,
      "outputs": [
        {
          "output_type": "execute_result",
          "data": {
            "text/plain": [
              "['문자열', 1, '숫자도ok']"
            ]
          },
          "metadata": {},
          "execution_count": 70
        }
      ]
    },
    {
      "cell_type": "code",
      "source": [
        "test_list.append('맨마지막에추가')"
      ],
      "metadata": {
        "id": "lLDPNwvZWbmM"
      },
      "execution_count": null,
      "outputs": []
    },
    {
      "cell_type": "code",
      "source": [
        "test_list"
      ],
      "metadata": {
        "colab": {
          "base_uri": "https://localhost:8080/"
        },
        "id": "GxqPoqXhWiTj",
        "outputId": "fc43c757-b124-4fd0-f485-6f4c2094f77b"
      },
      "execution_count": null,
      "outputs": [
        {
          "output_type": "execute_result",
          "data": {
            "text/plain": [
              "['문자열', 1, '숫자도ok', '맨마지막에추가']"
            ]
          },
          "metadata": {},
          "execution_count": 72
        }
      ]
    },
    {
      "cell_type": "code",
      "source": [
        "# test.append('없으니까추가안됨') # 오류"
      ],
      "metadata": {
        "id": "rRETOQQXWjOA"
      },
      "execution_count": null,
      "outputs": []
    },
    {
      "cell_type": "code",
      "source": [
        "# 파이썬 중간에 넣는법\n",
        "# 파이썬 리스트 요소 삽입\n",
        "test_list.insert(0, '추가')"
      ],
      "metadata": {
        "id": "2FOk2c7TW3tq"
      },
      "execution_count": null,
      "outputs": []
    },
    {
      "cell_type": "code",
      "source": [
        "# indexing 주소 위치를 이용해 접근\n",
        "test_list[0]"
      ],
      "metadata": {
        "colab": {
          "base_uri": "https://localhost:8080/",
          "height": 35
        },
        "id": "7qjCRAF1XR2o",
        "outputId": "4e8f9103-1322-4d0e-b3ad-0fdc8e1f46b8"
      },
      "execution_count": null,
      "outputs": [
        {
          "output_type": "execute_result",
          "data": {
            "text/plain": [
              "'추가'"
            ],
            "application/vnd.google.colaboratory.intrinsic+json": {
              "type": "string"
            }
          },
          "metadata": {},
          "execution_count": 75
        }
      ]
    },
    {
      "cell_type": "code",
      "source": [
        "test_list"
      ],
      "metadata": {
        "colab": {
          "base_uri": "https://localhost:8080/"
        },
        "id": "jOWwKU8kXuCs",
        "outputId": "18e13b74-bc3a-4960-95d7-0b8963a0812a"
      },
      "execution_count": null,
      "outputs": [
        {
          "output_type": "execute_result",
          "data": {
            "text/plain": [
              "['추가', '문자열', 1, '숫자도ok', '맨마지막에추가']"
            ]
          },
          "metadata": {},
          "execution_count": 76
        }
      ]
    },
    {
      "cell_type": "code",
      "source": [
        "del test_list[4] # append와는 달리 지우는 함수"
      ],
      "metadata": {
        "id": "9LD-wge6Xv7d"
      },
      "execution_count": null,
      "outputs": []
    },
    {
      "cell_type": "code",
      "source": [
        "test_list"
      ],
      "metadata": {
        "colab": {
          "base_uri": "https://localhost:8080/"
        },
        "id": "WySotqw-X2_R",
        "outputId": "1a348f52-e9f2-4c78-b872-9e25ecb2fb8b"
      },
      "execution_count": null,
      "outputs": [
        {
          "output_type": "execute_result",
          "data": {
            "text/plain": [
              "['추가', '문자열', 1, '숫자도ok']"
            ]
          },
          "metadata": {},
          "execution_count": 78
        }
      ]
    },
    {
      "cell_type": "code",
      "source": [
        "test_list[1:3] # <- 슬라이싱복습"
      ],
      "metadata": {
        "colab": {
          "base_uri": "https://localhost:8080/"
        },
        "id": "sXt6NYx6X372",
        "outputId": "99d2d7fb-875b-4666-a525-c97dd382189a"
      },
      "execution_count": null,
      "outputs": [
        {
          "output_type": "execute_result",
          "data": {
            "text/plain": [
              "['문자열', 1]"
            ]
          },
          "metadata": {},
          "execution_count": 79
        }
      ]
    },
    {
      "cell_type": "code",
      "source": [
        "# 외우는게 중요한게 아니라 필요할때 검색해서 사용할 수 있으면 됨"
      ],
      "metadata": {
        "id": "aoARHX2oYbEI"
      },
      "execution_count": null,
      "outputs": []
    },
    {
      "cell_type": "code",
      "source": [
        "hanguel_list = list()\n",
        "hanguel_list = [\"나\", \"다\", \"가\"]\n",
        "\n",
        "hanguel_list.sort() # 가나다순으로 정렬, 숫자섞여있으면 안됨\n",
        "hanguel_list"
      ],
      "metadata": {
        "colab": {
          "base_uri": "https://localhost:8080/"
        },
        "id": "YtReJ0m4JLc8",
        "outputId": "ab1cb0af-4be4-4113-cada-fcd086650240"
      },
      "execution_count": null,
      "outputs": [
        {
          "output_type": "execute_result",
          "data": {
            "text/plain": [
              "['가', '나', '다']"
            ]
          },
          "metadata": {},
          "execution_count": 86
        }
      ]
    },
    {
      "cell_type": "code",
      "source": [
        "hanguel_list.count('가') # 얼마나 있는지 count, 리스트만의 메소드\n",
        "# 조금 더 자세하게 알고 싶으면 '구글' 파이썬 리스트 카운트~ 로 검색색"
      ],
      "metadata": {
        "colab": {
          "base_uri": "https://localhost:8080/"
        },
        "id": "HsnKlCxKJvRN",
        "outputId": "1ea7df61-ea84-4d4b-8246-99fa1ede53ae"
      },
      "execution_count": null,
      "outputs": [
        {
          "output_type": "execute_result",
          "data": {
            "text/plain": [
              "1"
            ]
          },
          "metadata": {},
          "execution_count": 91
        }
      ]
    },
    {
      "cell_type": "code",
      "source": [
        "del hanguel_list[1]"
      ],
      "metadata": {
        "id": "kj5vu0arJ1si"
      },
      "execution_count": null,
      "outputs": []
    },
    {
      "cell_type": "code",
      "source": [
        "hanguel_list"
      ],
      "metadata": {
        "colab": {
          "base_uri": "https://localhost:8080/"
        },
        "id": "55eebyHAKU9c",
        "outputId": "59be502e-05d2-462d-9621-c6d7c26c77a7"
      },
      "execution_count": null,
      "outputs": [
        {
          "output_type": "execute_result",
          "data": {
            "text/plain": [
              "['가', '다']"
            ]
          },
          "metadata": {},
          "execution_count": 93
        }
      ]
    },
    {
      "cell_type": "code",
      "source": [
        "len(hanguel_list) # 값이 몇개가 있는지 보여줌, 함수임"
      ],
      "metadata": {
        "colab": {
          "base_uri": "https://localhost:8080/"
        },
        "id": "_q3pnAZ4KWFi",
        "outputId": "ce132102-befc-43ed-db58-920d5d5e3c78"
      },
      "execution_count": null,
      "outputs": [
        {
          "output_type": "execute_result",
          "data": {
            "text/plain": [
              "2"
            ]
          },
          "metadata": {},
          "execution_count": 95
        }
      ]
    },
    {
      "cell_type": "code",
      "source": [
        "# 메서드를 쓸때는 list.append()인데\n",
        "# 근데 len(list) 는 다른형식임. 이런걸 함수(정확히는 내장함수)라고 함"
      ],
      "metadata": {
        "id": "-is0JZe0KYtv"
      },
      "execution_count": null,
      "outputs": []
    },
    {
      "cell_type": "code",
      "source": [
        "# 튜플\n",
        "\n",
        "# 튜플도 리스트와 마찬가지로 여러 값을 모아서 저장함\n",
        "# 그러나 값을 변경할 수가 없음\n",
        "# 뮤터블(값변경가능), 이뮤터블(값변경불가)"
      ],
      "metadata": {
        "id": "b7CcOyE4KkX7"
      },
      "execution_count": null,
      "outputs": []
    },
    {
      "cell_type": "code",
      "source": [
        "# 괄호를 쓰지만 안쓰고 , , 해도 튜플이 됨"
      ],
      "metadata": {
        "id": "SBsydXzGK9av"
      },
      "execution_count": null,
      "outputs": []
    },
    {
      "cell_type": "code",
      "source": [
        "my_tuple = ()\n",
        "my_tuple"
      ],
      "metadata": {
        "colab": {
          "base_uri": "https://localhost:8080/"
        },
        "id": "ZZLUSm1FLDEH",
        "outputId": "c85feb30-8154-4f74-96ca-162a5ed62da8"
      },
      "execution_count": null,
      "outputs": [
        {
          "output_type": "execute_result",
          "data": {
            "text/plain": [
              "()"
            ]
          },
          "metadata": {},
          "execution_count": 97
        }
      ]
    },
    {
      "cell_type": "code",
      "source": [
        "type(my_tuple)"
      ],
      "metadata": {
        "colab": {
          "base_uri": "https://localhost:8080/"
        },
        "id": "cSgsteSiLFts",
        "outputId": "64476b15-faf0-427b-8c12-3789ade48bee"
      },
      "execution_count": null,
      "outputs": [
        {
          "output_type": "execute_result",
          "data": {
            "text/plain": [
              "tuple"
            ]
          },
          "metadata": {},
          "execution_count": 98
        }
      ]
    },
    {
      "cell_type": "code",
      "source": [
        "my_tuple = (1, 2, 3, 4, 5)"
      ],
      "metadata": {
        "id": "3KbK82zVLHOq"
      },
      "execution_count": null,
      "outputs": []
    },
    {
      "cell_type": "code",
      "source": [
        "my_tuple = 1, 2, 3, 4, 5"
      ],
      "metadata": {
        "id": "sKPuPnjOLLBu"
      },
      "execution_count": null,
      "outputs": []
    },
    {
      "cell_type": "code",
      "source": [
        "type(my_tuple)"
      ],
      "metadata": {
        "colab": {
          "base_uri": "https://localhost:8080/"
        },
        "id": "7qPBMj0FLMaw",
        "outputId": "5d2ba52e-bc6b-47dd-e9cf-ce2f50cc66d7"
      },
      "execution_count": null,
      "outputs": [
        {
          "output_type": "execute_result",
          "data": {
            "text/plain": [
              "tuple"
            ]
          },
          "metadata": {},
          "execution_count": 101
        }
      ]
    },
    {
      "cell_type": "code",
      "source": [
        "# packing unpacking\n",
        "\n",
        "# 택배상자를 열음 unpacking / 택배상자를 쌈 packing\n",
        "\n",
        "my_tuple = 1, 2, 3 # 패킹, 튜플로 묶어서 한꺼번에 저장장"
      ],
      "metadata": {
        "id": "8vqPw325LOdZ"
      },
      "execution_count": null,
      "outputs": []
    },
    {
      "cell_type": "code",
      "source": [
        "num1, num2, num3 = my_tuple # 마이튜플에 패킹되어있어서 가능, 이게 언패킹킹"
      ],
      "metadata": {
        "id": "_jPzqXXlLv_Z"
      },
      "execution_count": null,
      "outputs": []
    },
    {
      "cell_type": "code",
      "source": [
        "num1"
      ],
      "metadata": {
        "colab": {
          "base_uri": "https://localhost:8080/"
        },
        "id": "VXTXfy-BL01m",
        "outputId": "a27f22f5-e008-4aa3-849c-19fd989c9bea"
      },
      "execution_count": null,
      "outputs": [
        {
          "output_type": "execute_result",
          "data": {
            "text/plain": [
              "1"
            ]
          },
          "metadata": {},
          "execution_count": 105
        }
      ]
    },
    {
      "cell_type": "code",
      "source": [
        "num2"
      ],
      "metadata": {
        "colab": {
          "base_uri": "https://localhost:8080/"
        },
        "id": "x7C7ZjLnL1UG",
        "outputId": "a79d5c0f-db28-45df-93c3-742f01c7ba20"
      },
      "execution_count": null,
      "outputs": [
        {
          "output_type": "execute_result",
          "data": {
            "text/plain": [
              "2"
            ]
          },
          "metadata": {},
          "execution_count": 106
        }
      ]
    },
    {
      "cell_type": "code",
      "source": [
        "num3"
      ],
      "metadata": {
        "colab": {
          "base_uri": "https://localhost:8080/"
        },
        "id": "ESjCFPfYL3C1",
        "outputId": "9f7cd37a-ef10-4cf2-89a2-7c500aa4620e"
      },
      "execution_count": null,
      "outputs": [
        {
          "output_type": "execute_result",
          "data": {
            "text/plain": [
              "3"
            ]
          },
          "metadata": {},
          "execution_count": 107
        }
      ]
    },
    {
      "cell_type": "code",
      "source": [
        "num1, num2 = num2, num1 # num2, num1이 하나로 패킹이되고 왼쪽에서 언패킹이 됨"
      ],
      "metadata": {
        "id": "ro7oPuP8L3dg"
      },
      "execution_count": null,
      "outputs": []
    },
    {
      "cell_type": "code",
      "source": [
        "num1"
      ],
      "metadata": {
        "colab": {
          "base_uri": "https://localhost:8080/"
        },
        "id": "2BatD2lLMWCp",
        "outputId": "154ba0d3-628e-4e08-cdcc-c53dec35ccc9"
      },
      "execution_count": null,
      "outputs": [
        {
          "output_type": "execute_result",
          "data": {
            "text/plain": [
              "2"
            ]
          },
          "metadata": {},
          "execution_count": 118
        }
      ]
    },
    {
      "cell_type": "code",
      "source": [
        "num2"
      ],
      "metadata": {
        "colab": {
          "base_uri": "https://localhost:8080/"
        },
        "id": "97DwNqC8MWjq",
        "outputId": "7ffd129b-5834-40c7-8e5c-80b12a487624"
      },
      "execution_count": null,
      "outputs": [
        {
          "output_type": "execute_result",
          "data": {
            "text/plain": [
              "1"
            ]
          },
          "metadata": {},
          "execution_count": 119
        }
      ]
    },
    {
      "cell_type": "code",
      "source": [
        "# for\n",
        "\n",
        "# 반복되는 지루한 작업을 처리하는게 컴퓨터에겐 적격임\n",
        "# for, while이 있음\n",
        "\n",
        "# for 변수 in 컨테이너: (컨테이너는 list, 문자 이런거 다 가능능)\n",
        "#     실행할 명령1\n",
        "#     실행할 명령2\n",
        "\n",
        "# 컨테이너의 0번째 첫번째 있는 값부터 변수에 들어감\n",
        "# 명령 1, 2 실행 다시 돌아와서 1번째 값을 실행... 2번째.. 마지막이면 끝남\n",
        "# 명령 1, 2 부분을 코드블럭이라고 함\n",
        "# 코드블럭을 구분하기 위해 :,     들여쓰기로 구분함, 탭도 가능하긴 함\n",
        "# 그러나 for안에서 4칸 띄기를 썼으면 무조건 그것만 써야하고 탭만쓰면 탭만 써야함"
      ],
      "metadata": {
        "id": "enik-TJYMj3R"
      },
      "execution_count": null,
      "outputs": []
    },
    {
      "cell_type": "code",
      "source": [
        "for list in my_index:\n",
        "  print(list)"
      ],
      "metadata": {
        "colab": {
          "base_uri": "https://localhost:8080/"
        },
        "id": "Zi4hD2rfPgY9",
        "outputId": "c8695a4c-fcb9-4c72-d2c2-73f39ea371a5"
      },
      "execution_count": null,
      "outputs": [
        {
          "output_type": "stream",
          "name": "stdout",
          "text": [
            "나\n",
            "의\n",
            " \n",
            "파\n",
            "이\n",
            "썬\n",
            " \n",
            "공\n",
            "부\n",
            "!\n"
          ]
        }
      ]
    },
    {
      "cell_type": "code",
      "source": [
        "for num in [4, 5, 6]:\n",
        "  print(num)"
      ],
      "metadata": {
        "colab": {
          "base_uri": "https://localhost:8080/"
        },
        "id": "VeIK4zldPjqH",
        "outputId": "0dd6c022-e1ed-4cf4-ce56-b9f18140a35b"
      },
      "execution_count": null,
      "outputs": [
        {
          "output_type": "stream",
          "name": "stdout",
          "text": [
            "4\n",
            "5\n",
            "6\n"
          ]
        }
      ]
    },
    {
      "cell_type": "code",
      "source": [
        "for str in \"나의 파이썬 공부!\":\n",
        "  print(str)"
      ],
      "metadata": {
        "colab": {
          "base_uri": "https://localhost:8080/"
        },
        "id": "bsVoG3SPP1FT",
        "outputId": "e2a93540-90ad-48b3-fb0f-bb19a8fb6a1a"
      },
      "execution_count": null,
      "outputs": [
        {
          "output_type": "stream",
          "name": "stdout",
          "text": [
            "나\n",
            "의\n",
            " \n",
            "파\n",
            "이\n",
            "썬\n",
            " \n",
            "공\n",
            "부\n",
            "!\n"
          ]
        }
      ]
    },
    {
      "cell_type": "code",
      "source": [
        "range(3) # range는 내장함수"
      ],
      "metadata": {
        "colab": {
          "base_uri": "https://localhost:8080/"
        },
        "id": "bccx7LJcQA__",
        "outputId": "1302e414-b825-4dea-cf22-4de2f8075a8d"
      },
      "execution_count": null,
      "outputs": [
        {
          "output_type": "execute_result",
          "data": {
            "text/plain": [
              "range(0, 3)"
            ]
          },
          "metadata": {},
          "execution_count": 1
        }
      ]
    },
    {
      "cell_type": "code",
      "source": [
        "type(range(3))"
      ],
      "metadata": {
        "colab": {
          "base_uri": "https://localhost:8080/"
        },
        "id": "E-4XBumVePxd",
        "outputId": "40d13a30-7126-43b6-8b28-e760d45b0b2d"
      },
      "execution_count": null,
      "outputs": [
        {
          "output_type": "execute_result",
          "data": {
            "text/plain": [
              "range"
            ]
          },
          "metadata": {},
          "execution_count": 2
        }
      ]
    },
    {
      "cell_type": "code",
      "source": [
        "for n in [0,1,2]:\n",
        "  print(n)"
      ],
      "metadata": {
        "colab": {
          "base_uri": "https://localhost:8080/"
        },
        "id": "q00Ii0c9eVQy",
        "outputId": "3c4a8e4c-1203-4d10-9ae2-45053627e5a5"
      },
      "execution_count": null,
      "outputs": [
        {
          "output_type": "stream",
          "name": "stdout",
          "text": [
            "0\n",
            "1\n",
            "2\n"
          ]
        }
      ]
    },
    {
      "cell_type": "code",
      "source": [
        "for n in range(0,3): # 0,1,2라고 일일히 쳐주지 않아도 됨, 파이썬은 0이상 3미만만\n",
        "  print(n)"
      ],
      "metadata": {
        "colab": {
          "base_uri": "https://localhost:8080/"
        },
        "id": "Ejt9UUAGean8",
        "outputId": "2eeb9e5e-90f2-4f8f-b9cf-301f2f984306"
      },
      "execution_count": null,
      "outputs": [
        {
          "output_type": "stream",
          "name": "stdout",
          "text": [
            "0\n",
            "1\n",
            "2\n"
          ]
        }
      ]
    },
    {
      "cell_type": "code",
      "source": [
        "for n in range(0,20):\n",
        "  print(n)"
      ],
      "metadata": {
        "colab": {
          "base_uri": "https://localhost:8080/"
        },
        "id": "kHvqLjMSedbw",
        "outputId": "fe171403-029d-45dd-8893-cf172885a6cd"
      },
      "execution_count": null,
      "outputs": [
        {
          "output_type": "stream",
          "name": "stdout",
          "text": [
            "0\n",
            "1\n",
            "2\n",
            "3\n",
            "4\n",
            "5\n",
            "6\n",
            "7\n",
            "8\n",
            "9\n",
            "10\n",
            "11\n",
            "12\n",
            "13\n",
            "14\n",
            "15\n",
            "16\n",
            "17\n",
            "18\n",
            "19\n"
          ]
        }
      ]
    },
    {
      "cell_type": "code",
      "source": [
        "for n in range(2, 10):\n",
        "  print(n)"
      ],
      "metadata": {
        "colab": {
          "base_uri": "https://localhost:8080/"
        },
        "id": "LAWOaeoIejz3",
        "outputId": "9b02d1fe-8aed-49e5-b50e-5c8213c25b6f"
      },
      "execution_count": null,
      "outputs": [
        {
          "output_type": "stream",
          "name": "stdout",
          "text": [
            "2\n",
            "3\n",
            "4\n",
            "5\n",
            "6\n",
            "7\n",
            "8\n",
            "9\n"
          ]
        }
      ]
    },
    {
      "cell_type": "code",
      "source": [
        "for i in range(1, 10):\n",
        "  print('{}x{} = {}'.format(2, i, 2*i))"
      ],
      "metadata": {
        "colab": {
          "base_uri": "https://localhost:8080/"
        },
        "id": "SLOgcniRfUl9",
        "outputId": "fb1e5301-635e-46bc-e46b-4063805ed44f"
      },
      "execution_count": null,
      "outputs": [
        {
          "output_type": "stream",
          "name": "stdout",
          "text": [
            "2x1 = 9\n",
            "2x2 = 18\n",
            "2x3 = 27\n",
            "2x4 = 36\n",
            "2x5 = 45\n",
            "2x6 = 54\n",
            "2x7 = 63\n",
            "2x8 = 72\n",
            "2x9 = 81\n"
          ]
        }
      ]
    },
    {
      "cell_type": "code",
      "source": [
        "for j in range(2,10):\n",
        "  for i in range(1, 10):\n",
        "      print('{}x{} = {}'.format(j, i, j*i))\n",
        "\n",
        "      # 위에 읽고 밑에 보면 이해 됨!\n",
        "      # 2가 들어와서 for i 다 돌아야 j로 다시 돌아갈 수 있음!\n",
        "      # 중첩반복문"
      ],
      "metadata": {
        "colab": {
          "base_uri": "https://localhost:8080/"
        },
        "id": "Ywr87lWJgZX9",
        "outputId": "496beda6-b7f0-4783-ca97-8abd50104007"
      },
      "execution_count": null,
      "outputs": [
        {
          "output_type": "stream",
          "name": "stdout",
          "text": [
            "2x1 = 2\n",
            "2x2 = 4\n",
            "2x3 = 6\n",
            "2x4 = 8\n",
            "2x5 = 10\n",
            "2x6 = 12\n",
            "2x7 = 14\n",
            "2x8 = 16\n",
            "2x9 = 18\n",
            "3x1 = 3\n",
            "3x2 = 6\n",
            "3x3 = 9\n",
            "3x4 = 12\n",
            "3x5 = 15\n",
            "3x6 = 18\n",
            "3x7 = 21\n",
            "3x8 = 24\n",
            "3x9 = 27\n",
            "4x1 = 4\n",
            "4x2 = 8\n",
            "4x3 = 12\n",
            "4x4 = 16\n",
            "4x5 = 20\n",
            "4x6 = 24\n",
            "4x7 = 28\n",
            "4x8 = 32\n",
            "4x9 = 36\n",
            "5x1 = 5\n",
            "5x2 = 10\n",
            "5x3 = 15\n",
            "5x4 = 20\n",
            "5x5 = 25\n",
            "5x6 = 30\n",
            "5x7 = 35\n",
            "5x8 = 40\n",
            "5x9 = 45\n",
            "6x1 = 6\n",
            "6x2 = 12\n",
            "6x3 = 18\n",
            "6x4 = 24\n",
            "6x5 = 30\n",
            "6x6 = 36\n",
            "6x7 = 42\n",
            "6x8 = 48\n",
            "6x9 = 54\n",
            "7x1 = 7\n",
            "7x2 = 14\n",
            "7x3 = 21\n",
            "7x4 = 28\n",
            "7x5 = 35\n",
            "7x6 = 42\n",
            "7x7 = 49\n",
            "7x8 = 56\n",
            "7x9 = 63\n",
            "8x1 = 8\n",
            "8x2 = 16\n",
            "8x3 = 24\n",
            "8x4 = 32\n",
            "8x5 = 40\n",
            "8x6 = 48\n",
            "8x7 = 56\n",
            "8x8 = 64\n",
            "8x9 = 72\n",
            "9x1 = 9\n",
            "9x2 = 18\n",
            "9x3 = 27\n",
            "9x4 = 36\n",
            "9x5 = 45\n",
            "9x6 = 54\n",
            "9x7 = 63\n",
            "9x8 = 72\n",
            "9x9 = 81\n"
          ]
        }
      ]
    },
    {
      "cell_type": "code",
      "source": [
        "# 컴프리헨션 - 어려운데 편리함. 개념만 알고 있어도 좋음\n",
        "\n",
        "numbers = [1,2,3,4,5,6,7,8,9,10]\n",
        "\n",
        "odd_numbers = []\n",
        "\n",
        "for number in numbers:\n",
        "  if number % 2 == 1:\n",
        "    # odd_numbers = number 이렇게 짜면 한번밖에 안들어감\n",
        "    odd_numbers.append(number) # ()안에 number 넣는거 까먹음 바보보"
      ],
      "metadata": {
        "id": "wMRHSBF9gkE-"
      },
      "execution_count": null,
      "outputs": []
    },
    {
      "cell_type": "code",
      "source": [
        "odd_numbers"
      ],
      "metadata": {
        "colab": {
          "base_uri": "https://localhost:8080/"
        },
        "id": "A5JCukmjuQxh",
        "outputId": "797cb3db-0dee-4bbd-d282-eafb1b4eb4f5"
      },
      "execution_count": null,
      "outputs": [
        {
          "output_type": "execute_result",
          "data": {
            "text/plain": [
              "[1, 3, 5, 7, 9]"
            ]
          },
          "metadata": {},
          "execution_count": 8
        }
      ]
    },
    {
      "cell_type": "code",
      "source": [
        "[number for number in numbers if number % 2 ==1]"
      ],
      "metadata": {
        "colab": {
          "base_uri": "https://localhost:8080/"
        },
        "id": "CYyMui5xufUQ",
        "outputId": "e3a2ddf6-3f8e-4d5a-9036-cb247da9fc7f"
      },
      "execution_count": null,
      "outputs": [
        {
          "output_type": "execute_result",
          "data": {
            "text/plain": [
              "[1, 3, 5, 7, 9]"
            ]
          },
          "metadata": {},
          "execution_count": 9
        }
      ]
    },
    {
      "cell_type": "code",
      "source": [
        "odd_numbers = [number for number in numbers if number % 2 ==1]"
      ],
      "metadata": {
        "id": "y9GF3hkeu1TA"
      },
      "execution_count": null,
      "outputs": []
    },
    {
      "cell_type": "code",
      "source": [
        "# 연산자 ; 특정한 연산을 하는것\n",
        "# 리스트 튜플도 자료형 이런것마다 연산자들이 존재\n",
        "\n",
        "# assign 할당연산자\n",
        "# = 어떤 변수에 어떤 값을 저장할때\n",
        "# 변수 = 값 , 변수에 값을 넣는다, 오른쪽 값을 왼쪽에 할당한다\n",
        "\n",
        "# 메모리에 값들을 저장함\n",
        "# my_int라는 이름표 변수를 값에 붙임\n",
        "\n",
        "# 복합할당연산자\n",
        "# +=, -=, *=, /="
      ],
      "metadata": {
        "id": "IdHPWQ-avINM"
      },
      "execution_count": null,
      "outputs": []
    },
    {
      "cell_type": "code",
      "source": [
        "count = 0\n",
        "count = 1"
      ],
      "metadata": {
        "id": "Ls5eGL7zwuty"
      },
      "execution_count": null,
      "outputs": []
    },
    {
      "cell_type": "code",
      "source": [
        "count = count+1\n",
        "count"
      ],
      "metadata": {
        "colab": {
          "base_uri": "https://localhost:8080/"
        },
        "id": "vdx0itDrwwzt",
        "outputId": "1d59ebf2-3168-4b57-a181-1ef8067ed08b"
      },
      "execution_count": null,
      "outputs": [
        {
          "output_type": "execute_result",
          "data": {
            "text/plain": [
              "2"
            ]
          },
          "metadata": {},
          "execution_count": 15
        }
      ]
    },
    {
      "cell_type": "code",
      "source": [
        "count = count+1\n",
        "count"
      ],
      "metadata": {
        "colab": {
          "base_uri": "https://localhost:8080/"
        },
        "id": "qFCgds-Kw01x",
        "outputId": "ea3dae5e-e7aa-4ce9-da17-37ca5013d811"
      },
      "execution_count": null,
      "outputs": [
        {
          "output_type": "execute_result",
          "data": {
            "text/plain": [
              "3"
            ]
          },
          "metadata": {},
          "execution_count": 16
        }
      ]
    },
    {
      "cell_type": "code",
      "source": [
        "count += 1\n",
        "count"
      ],
      "metadata": {
        "colab": {
          "base_uri": "https://localhost:8080/"
        },
        "id": "MVgQDgkDw5h_",
        "outputId": "d6c31d76-9f7a-42ae-d51c-a2dec43acc3e"
      },
      "execution_count": null,
      "outputs": [
        {
          "output_type": "execute_result",
          "data": {
            "text/plain": [
              "5"
            ]
          },
          "metadata": {},
          "execution_count": 18
        }
      ]
    },
    {
      "cell_type": "code",
      "source": [
        "count -= 1\n",
        "count"
      ],
      "metadata": {
        "colab": {
          "base_uri": "https://localhost:8080/"
        },
        "id": "g2mYbK8kw6hm",
        "outputId": "a9e4e33c-dfd5-4c5e-8414-f807c4928dd7"
      },
      "execution_count": null,
      "outputs": [
        {
          "output_type": "execute_result",
          "data": {
            "text/plain": [
              "3"
            ]
          },
          "metadata": {},
          "execution_count": 20
        }
      ]
    },
    {
      "cell_type": "code",
      "source": [
        "# 산술연산자 + - * /\n",
        "# * -> 애스터리스크라고 함\n",
        "\n",
        "# 특수연산자도 있음\n",
        "# ** // %\n",
        "\n",
        "# ** 제곱\n",
        "# // 몫\n",
        "# % 나머지를 구하는 연산자자"
      ],
      "metadata": {
        "id": "9AxUFSaPxCHH"
      },
      "execution_count": null,
      "outputs": []
    },
    {
      "cell_type": "code",
      "source": [
        "3 ** 2"
      ],
      "metadata": {
        "colab": {
          "base_uri": "https://localhost:8080/"
        },
        "id": "JDjfAu5FxwbO",
        "outputId": "9c8cbbeb-246a-42c3-e6e8-8a42b91971b2"
      },
      "execution_count": null,
      "outputs": [
        {
          "output_type": "execute_result",
          "data": {
            "text/plain": [
              "9"
            ]
          },
          "metadata": {},
          "execution_count": 21
        }
      ]
    },
    {
      "cell_type": "code",
      "source": [
        "7 / 3"
      ],
      "metadata": {
        "colab": {
          "base_uri": "https://localhost:8080/"
        },
        "id": "C8-6yo0pxxwY",
        "outputId": "a5f2e57a-940b-44bd-82da-f8bac28c66cb"
      },
      "execution_count": null,
      "outputs": [
        {
          "output_type": "execute_result",
          "data": {
            "text/plain": [
              "2.3333333333333335"
            ]
          },
          "metadata": {},
          "execution_count": 22
        }
      ]
    },
    {
      "cell_type": "code",
      "source": [
        "7 // 3"
      ],
      "metadata": {
        "colab": {
          "base_uri": "https://localhost:8080/"
        },
        "id": "nVom9i6OxzWv",
        "outputId": "20dac74c-9d2a-4236-a41e-25627e6dc24f"
      },
      "execution_count": null,
      "outputs": [
        {
          "output_type": "execute_result",
          "data": {
            "text/plain": [
              "2"
            ]
          },
          "metadata": {},
          "execution_count": 23
        }
      ]
    },
    {
      "cell_type": "code",
      "source": [
        "7 % 2"
      ],
      "metadata": {
        "colab": {
          "base_uri": "https://localhost:8080/"
        },
        "id": "fHji3pi0x3Gw",
        "outputId": "e6733dcb-aca4-40ae-d05b-4e5696caa214"
      },
      "execution_count": null,
      "outputs": [
        {
          "output_type": "execute_result",
          "data": {
            "text/plain": [
              "1"
            ]
          },
          "metadata": {},
          "execution_count": 25
        }
      ]
    },
    {
      "cell_type": "code",
      "source": [
        "for number in numbers:\n",
        "  if number % 2 == 1:\n",
        "    odd_numbers.append(number)"
      ],
      "metadata": {
        "id": "Vc_rBnHBx3-f"
      },
      "execution_count": null,
      "outputs": []
    },
    {
      "cell_type": "code",
      "source": [
        "odd_numbers"
      ],
      "metadata": {
        "colab": {
          "base_uri": "https://localhost:8080/"
        },
        "id": "jjp1WYciyaqK",
        "outputId": "92e289c8-1f67-499a-e84d-17aec6f64405"
      },
      "execution_count": null,
      "outputs": [
        {
          "output_type": "execute_result",
          "data": {
            "text/plain": [
              "[1, 3, 5, 7, 9, 1, 3, 5, 7, 9]"
            ]
          },
          "metadata": {},
          "execution_count": 29
        }
      ]
    },
    {
      "cell_type": "code",
      "source": [
        "for number in numbers:\n",
        "  if number % 2 == 1:\n",
        "    print(\"홀수\")\n",
        "  else:\n",
        "    print(\"짝수\")"
      ],
      "metadata": {
        "colab": {
          "base_uri": "https://localhost:8080/"
        },
        "id": "BOLgR_3RyOt-",
        "outputId": "d09a1a37-77dd-4e88-c731-f35bbd2282b0"
      },
      "execution_count": null,
      "outputs": [
        {
          "output_type": "stream",
          "name": "stdout",
          "text": [
            "홀수\n",
            "짝수\n",
            "홀수\n",
            "짝수\n",
            "홀수\n",
            "짝수\n",
            "홀수\n",
            "짝수\n",
            "홀수\n",
            "짝수\n"
          ]
        }
      ]
    },
    {
      "cell_type": "code",
      "source": [
        "for number in numbers:\n",
        "  if number % 2 == 1:\n",
        "    print(number, \"는 홀수\")\n",
        "  else:\n",
        "    print(number, \"는 짝수\")"
      ],
      "metadata": {
        "colab": {
          "base_uri": "https://localhost:8080/"
        },
        "id": "H2ovGtpRynmw",
        "outputId": "e1609471-4e5c-4125-fb53-843d9d491ee8"
      },
      "execution_count": null,
      "outputs": [
        {
          "output_type": "stream",
          "name": "stdout",
          "text": [
            "1 는 홀수\n",
            "2 는 짝수\n",
            "3 는 홀수\n",
            "4 는 짝수\n",
            "5 는 홀수\n",
            "6 는 짝수\n",
            "7 는 홀수\n",
            "8 는 짝수\n",
            "9 는 홀수\n",
            "10 는 짝수\n"
          ]
        }
      ]
    },
    {
      "cell_type": "code",
      "source": [
        "# 문자열도 연산자가 있음 + *\n",
        "\n",
        "'김해인' + 'X' + '돼지'"
      ],
      "metadata": {
        "colab": {
          "base_uri": "https://localhost:8080/",
          "height": 35
        },
        "id": "83V5gKcgy3wH",
        "outputId": "0dda0350-f6f6-40a1-f649-da95fce46ea0"
      },
      "execution_count": null,
      "outputs": [
        {
          "output_type": "execute_result",
          "data": {
            "text/plain": [
              "'김해인X돼지'"
            ],
            "application/vnd.google.colaboratory.intrinsic+json": {
              "type": "string"
            }
          },
          "metadata": {},
          "execution_count": 35
        }
      ]
    },
    {
      "cell_type": "code",
      "source": [
        "'김해인' * 5"
      ],
      "metadata": {
        "colab": {
          "base_uri": "https://localhost:8080/",
          "height": 35
        },
        "id": "Zs8EDrI4zECe",
        "outputId": "8f512a8f-b624-4d4c-ec2c-d990a96ad0bc"
      },
      "execution_count": null,
      "outputs": [
        {
          "output_type": "execute_result",
          "data": {
            "text/plain": [
              "'김해인김해인김해인김해인김해인'"
            ],
            "application/vnd.google.colaboratory.intrinsic+json": {
              "type": "string"
            }
          },
          "metadata": {},
          "execution_count": 36
        }
      ]
    },
    {
      "cell_type": "code",
      "source": [
        "def cls():\n",
        "  print('\\n' * 100) # ' ' 붙이기"
      ],
      "metadata": {
        "id": "gYiq7gbJzP6r"
      },
      "execution_count": null,
      "outputs": []
    },
    {
      "cell_type": "code",
      "source": [
        "cls() # 함수 호출할땐 뒤에 () 붙여야함"
      ],
      "metadata": {
        "colab": {
          "base_uri": "https://localhost:8080/"
        },
        "id": "q1REsezOzWfP",
        "outputId": "4c59d00b-a0a8-403d-fe99-f7cea1a9bed8"
      },
      "execution_count": null,
      "outputs": [
        {
          "output_type": "stream",
          "name": "stdout",
          "text": [
            "\n",
            "\n",
            "\n",
            "\n",
            "\n",
            "\n",
            "\n",
            "\n",
            "\n",
            "\n",
            "\n",
            "\n",
            "\n",
            "\n",
            "\n",
            "\n",
            "\n",
            "\n",
            "\n",
            "\n",
            "\n",
            "\n",
            "\n",
            "\n",
            "\n",
            "\n",
            "\n",
            "\n",
            "\n",
            "\n",
            "\n",
            "\n",
            "\n",
            "\n",
            "\n",
            "\n",
            "\n",
            "\n",
            "\n",
            "\n",
            "\n",
            "\n",
            "\n",
            "\n",
            "\n",
            "\n",
            "\n",
            "\n",
            "\n",
            "\n",
            "\n",
            "\n",
            "\n",
            "\n",
            "\n",
            "\n",
            "\n",
            "\n",
            "\n",
            "\n",
            "\n",
            "\n",
            "\n",
            "\n",
            "\n",
            "\n",
            "\n",
            "\n",
            "\n",
            "\n",
            "\n",
            "\n",
            "\n",
            "\n",
            "\n",
            "\n",
            "\n",
            "\n",
            "\n",
            "\n",
            "\n",
            "\n",
            "\n",
            "\n",
            "\n",
            "\n",
            "\n",
            "\n",
            "\n",
            "\n",
            "\n",
            "\n",
            "\n",
            "\n",
            "\n",
            "\n",
            "\n",
            "\n",
            "\n",
            "\n",
            "\n"
          ]
        }
      ]
    },
    {
      "cell_type": "code",
      "source": [
        "# 비교 연산자\n",
        "\n",
        "# == 둘이 같을까? 결과 true, false\n",
        "# != 둘이 다를까? 결과 true, false\n",
        "\n",
        "# <\n",
        "# >\n",
        "\n",
        "# >=\n",
        "# <="
      ],
      "metadata": {
        "id": "QQe4RcKSzbIK"
      },
      "execution_count": null,
      "outputs": []
    },
    {
      "cell_type": "code",
      "source": [
        "# 논리 연산자\n",
        "\n",
        "# and 두개가 모두 참일때만 참\n",
        "# or 한개라도 참이면 참\n",
        "# not 참이면 거짓, 거짓이면 참"
      ],
      "metadata": {
        "id": "MBEHdi7l0S4K"
      },
      "execution_count": null,
      "outputs": []
    },
    {
      "cell_type": "code",
      "source": [
        "True and True"
      ],
      "metadata": {
        "colab": {
          "base_uri": "https://localhost:8080/"
        },
        "id": "XHcj1fRf0oVk",
        "outputId": "7f2206ea-8a90-4b93-97aa-4d963bd34cb5"
      },
      "execution_count": null,
      "outputs": [
        {
          "output_type": "execute_result",
          "data": {
            "text/plain": [
              "True"
            ]
          },
          "metadata": {},
          "execution_count": 43
        }
      ]
    },
    {
      "cell_type": "code",
      "source": [
        "True and False"
      ],
      "metadata": {
        "colab": {
          "base_uri": "https://localhost:8080/"
        },
        "id": "YLTpuATU0pUy",
        "outputId": "f0aacb41-bfda-4577-a227-37c5bb63af46"
      },
      "execution_count": null,
      "outputs": [
        {
          "output_type": "execute_result",
          "data": {
            "text/plain": [
              "False"
            ]
          },
          "metadata": {},
          "execution_count": 44
        }
      ]
    },
    {
      "cell_type": "code",
      "source": [
        "False and False"
      ],
      "metadata": {
        "colab": {
          "base_uri": "https://localhost:8080/"
        },
        "id": "czoy1-i80s0N",
        "outputId": "84911361-2be4-4495-c5d8-d8ee64a1b2d4"
      },
      "execution_count": null,
      "outputs": [
        {
          "output_type": "execute_result",
          "data": {
            "text/plain": [
              "False"
            ]
          },
          "metadata": {},
          "execution_count": 45
        }
      ]
    },
    {
      "cell_type": "code",
      "source": [
        "True or True"
      ],
      "metadata": {
        "colab": {
          "base_uri": "https://localhost:8080/"
        },
        "id": "O7aJrMgP01TG",
        "outputId": "70d2f5ac-16fe-4ebf-ab1a-8a162bae32d0"
      },
      "execution_count": null,
      "outputs": [
        {
          "output_type": "execute_result",
          "data": {
            "text/plain": [
              "True"
            ]
          },
          "metadata": {},
          "execution_count": 48
        }
      ]
    },
    {
      "cell_type": "code",
      "source": [
        "True or False"
      ],
      "metadata": {
        "colab": {
          "base_uri": "https://localhost:8080/"
        },
        "id": "6wR2_YL806bQ",
        "outputId": "92fa6fec-db84-44c5-f556-8d1206e7d14c"
      },
      "execution_count": null,
      "outputs": [
        {
          "output_type": "execute_result",
          "data": {
            "text/plain": [
              "True"
            ]
          },
          "metadata": {},
          "execution_count": 49
        }
      ]
    },
    {
      "cell_type": "code",
      "source": [
        "False or False"
      ],
      "metadata": {
        "colab": {
          "base_uri": "https://localhost:8080/"
        },
        "id": "KuKu1g0t03Ru",
        "outputId": "a1e928b2-8287-4061-f94f-6ed871f5cc3a"
      },
      "execution_count": null,
      "outputs": [
        {
          "output_type": "execute_result",
          "data": {
            "text/plain": [
              "False"
            ]
          },
          "metadata": {},
          "execution_count": 50
        }
      ]
    },
    {
      "cell_type": "code",
      "source": [
        "not False"
      ],
      "metadata": {
        "colab": {
          "base_uri": "https://localhost:8080/"
        },
        "id": "ZYJIM0rG0v9a",
        "outputId": "f785a43e-284c-431a-fd58-b53033497364"
      },
      "execution_count": null,
      "outputs": [
        {
          "output_type": "execute_result",
          "data": {
            "text/plain": [
              "True"
            ]
          },
          "metadata": {},
          "execution_count": 46
        }
      ]
    },
    {
      "cell_type": "code",
      "source": [
        "not True"
      ],
      "metadata": {
        "colab": {
          "base_uri": "https://localhost:8080/"
        },
        "id": "R8nkce040xer",
        "outputId": "64da3321-56e2-48a7-a641-f5a881d76d0e"
      },
      "execution_count": null,
      "outputs": [
        {
          "output_type": "execute_result",
          "data": {
            "text/plain": [
              "False"
            ]
          },
          "metadata": {},
          "execution_count": 47
        }
      ]
    },
    {
      "cell_type": "code",
      "source": [
        "height = 120\n",
        "age = 8"
      ],
      "metadata": {
        "id": "RejiEjiT0yi-"
      },
      "execution_count": null,
      "outputs": []
    },
    {
      "cell_type": "code",
      "source": [
        "h > 140 and age > 10"
      ],
      "metadata": {
        "id": "NNZhD5WI1DXT"
      },
      "execution_count": null,
      "outputs": []
    },
    {
      "cell_type": "code",
      "source": [
        "h = 190\n",
        "age = 9"
      ],
      "metadata": {
        "id": "Tg3t4PAB1Ig8"
      },
      "execution_count": null,
      "outputs": []
    },
    {
      "cell_type": "code",
      "source": [
        "h > 140 and age > 10"
      ],
      "metadata": {
        "colab": {
          "base_uri": "https://localhost:8080/"
        },
        "id": "4j9b4YXS1Q3K",
        "outputId": "4527c1aa-324c-42f9-827f-e179b7115041"
      },
      "execution_count": null,
      "outputs": [
        {
          "output_type": "execute_result",
          "data": {
            "text/plain": [
              "False"
            ]
          },
          "metadata": {},
          "execution_count": 55
        }
      ]
    },
    {
      "cell_type": "code",
      "source": [
        "h = 150\n",
        "age = 32"
      ],
      "metadata": {
        "id": "o7tqlOEk1S6j"
      },
      "execution_count": null,
      "outputs": []
    },
    {
      "cell_type": "code",
      "source": [
        "h > 140 and age > 10"
      ],
      "metadata": {
        "colab": {
          "base_uri": "https://localhost:8080/"
        },
        "id": "RbiFdFRz1dBR",
        "outputId": "b2ef4855-a554-42bc-abca-5ffccb6f08c1"
      },
      "execution_count": null,
      "outputs": [
        {
          "output_type": "execute_result",
          "data": {
            "text/plain": [
              "True"
            ]
          },
          "metadata": {},
          "execution_count": 60
        }
      ]
    },
    {
      "cell_type": "code",
      "source": [
        "# membership 연산자\n",
        "# 리스트에 값이 있는지 없는지를 확인\n",
        "\n",
        "# in과 not in"
      ],
      "metadata": {
        "id": "XcNr4bKu1i2y"
      },
      "execution_count": null,
      "outputs": []
    },
    {
      "cell_type": "code",
      "source": [
        "bbang = ['호떡', '빵떡']"
      ],
      "metadata": {
        "id": "1LhaBoEAYNuu"
      },
      "execution_count": null,
      "outputs": []
    },
    {
      "cell_type": "code",
      "source": [
        "'호떡' in bbang"
      ],
      "metadata": {
        "colab": {
          "base_uri": "https://localhost:8080/"
        },
        "id": "_FcmV08AYbzt",
        "outputId": "a915625e-f392-447b-d498-e0cf9d49a158"
      },
      "execution_count": null,
      "outputs": [
        {
          "output_type": "execute_result",
          "data": {
            "text/plain": [
              "True"
            ]
          },
          "metadata": {},
          "execution_count": 4
        }
      ]
    },
    {
      "cell_type": "code",
      "source": [
        "'소금빵' in bbang"
      ],
      "metadata": {
        "colab": {
          "base_uri": "https://localhost:8080/"
        },
        "id": "dIwtjTsfYebb",
        "outputId": "5856db33-fdf6-4b3b-c82c-c77695c389c2"
      },
      "execution_count": null,
      "outputs": [
        {
          "output_type": "execute_result",
          "data": {
            "text/plain": [
              "False"
            ]
          },
          "metadata": {},
          "execution_count": 5
        }
      ]
    },
    {
      "cell_type": "code",
      "source": [
        "'소금빵' not in bbang"
      ],
      "metadata": {
        "colab": {
          "base_uri": "https://localhost:8080/"
        },
        "id": "t31aWHBYYmRb",
        "outputId": "915cc1b1-961d-4b66-e697-1e9a766a97f3"
      },
      "execution_count": null,
      "outputs": [
        {
          "output_type": "execute_result",
          "data": {
            "text/plain": [
              "True"
            ]
          },
          "metadata": {},
          "execution_count": 6
        }
      ]
    },
    {
      "cell_type": "code",
      "source": [
        "bbang.append('소금빵')"
      ],
      "metadata": {
        "id": "aiSesWZtYoSk"
      },
      "execution_count": null,
      "outputs": []
    },
    {
      "cell_type": "code",
      "source": [
        "'소금빵' in bbang"
      ],
      "metadata": {
        "colab": {
          "base_uri": "https://localhost:8080/"
        },
        "id": "xAF34NfQYvgi",
        "outputId": "60aca80c-7ae7-43a5-aaa2-fab99f470322"
      },
      "execution_count": null,
      "outputs": [
        {
          "output_type": "execute_result",
          "data": {
            "text/plain": [
              "True"
            ]
          },
          "metadata": {},
          "execution_count": 10
        }
      ]
    },
    {
      "cell_type": "code",
      "source": [
        "bbang.remove(\"소금빵빵\")"
      ],
      "metadata": {
        "id": "emtvVlpuYwlC"
      },
      "execution_count": null,
      "outputs": []
    },
    {
      "cell_type": "code",
      "source": [
        "# if 참인지 거짓인지 판단\n",
        "\n",
        "# if 조건 : # true, false 둘 중 하나가 나오는 식이 들어감\n",
        "#    실행할명령1 # true코드블럭\n",
        "#    실행할명령2 # true코드블럭\n",
        "\n",
        "# 거짓이면 코드블럭 밖으로 넘어감\n",
        "# 코드블럭 구분을 하는게 시작은 콜론, 띄어쓰기 4칸"
      ],
      "metadata": {
        "id": "ttOB-pSeY2ph"
      },
      "execution_count": null,
      "outputs": []
    },
    {
      "cell_type": "code",
      "source": [
        "input_name = '미토피아'\n",
        "\n",
        "if input_name == '미토피아' :\n",
        "    print(\"스위치 게임 {}\".format(input_name))"
      ],
      "metadata": {
        "colab": {
          "base_uri": "https://localhost:8080/"
        },
        "id": "XgXaVpHPaLWs",
        "outputId": "67466f89-8fa9-4cf0-a4e9-33e3ee85fb51"
      },
      "execution_count": null,
      "outputs": [
        {
          "output_type": "stream",
          "name": "stdout",
          "text": [
            "스위치 게임 미토피아\n"
          ]
        }
      ]
    },
    {
      "cell_type": "code",
      "source": [
        "input_name = '마비노기'\n",
        "\n",
        "if input_name == '미토피아' :\n",
        "    print(\"스위치 게임 {}\".format(input_name))\n",
        "\n",
        "# false면 아무것도 없어서 프린트 안하고 넘어감"
      ],
      "metadata": {
        "id": "oikb09SSah3P"
      },
      "execution_count": null,
      "outputs": []
    },
    {
      "cell_type": "code",
      "source": [
        "# if랑 같이 쓰는 애들이 있음 1\n",
        "\n",
        "\n",
        "# if 조건 : # true, false 둘 중 하나가 나오는 식이 들어감\n",
        "#    실행할명령1 # true 일때 들어오는 코드블럭\n",
        "#    실행할명령2 # true 일때 들어오는 코드블럭\n",
        "# else: # false 면 여기로 들어옴\n",
        "#    실행할명령1 # false 일때 들어오는 코드블럭\n",
        "#    실행할명령2 # false 일때 들어오는 코드블럭"
      ],
      "metadata": {
        "id": "5-HiP8qPa2AU"
      },
      "execution_count": null,
      "outputs": []
    },
    {
      "cell_type": "code",
      "source": [
        "# if랑 같이 쓰는 애들이 있음 2\n",
        "# elif 엘이프 : 여러개 사용 가능함!!!\n",
        "\n",
        "\n",
        "# if 조건 : # true, false 둘 중 하나가 나오는 식이 들어감\n",
        "#    실행할명령1 # true 일때 들어오는 코드블럭\n",
        "#    실행할명령2 # true 일때 들어오는 코드블럭\n",
        "# elif: # false 면 여기로 들어옴 # 근데 또 검사를 함!\n",
        "#    실행할명령1 # elif가 true 일때 들어오는 코드블럭\n",
        "#    실행할명령2 # elif가 true 일때 들어오는 코드블럭\n",
        "\n",
        "# elif에서 false 면 아무것도 실행안하고 넘어감"
      ],
      "metadata": {
        "id": "MlrsJOxQbaTL"
      },
      "execution_count": null,
      "outputs": []
    },
    {
      "cell_type": "code",
      "source": [
        "# if 조건 : # true, false 둘 중 하나가 나오는 식이 들어감\n",
        "#    실행할명령1\n",
        "#    실행할명령2\n",
        "# elif: # 위의 if가가 false 면 여기로 내려옴옴\n",
        "#    실행할명령1\n",
        "#    실행할명령2\n",
        "# elif: # 위의 elif가 false 면 여기로 들어옴\n",
        "#    실행할명령1\n",
        "#    실행할명령2\n",
        "# else: # 위의 모든 조건에 해당되지 않으면 무조건 들어옴\n",
        "#    실행할명령1 \n",
        "#    실행할명령2 "
      ],
      "metadata": {
        "id": "oWJPH7CDbtJg"
      },
      "execution_count": null,
      "outputs": []
    },
    {
      "cell_type": "code",
      "source": [
        "input_name = '미토피아'\n",
        "\n",
        "if input_name == '미토피아' :\n",
        "    print(\"스위치 게임 {}\".format(input_name))\n",
        "elif input_name == \"마비노기\":\n",
        "    print(\"온라인 게임\")\n",
        "else:\n",
        "    print(\"아무것도 아님!\")"
      ],
      "metadata": {
        "colab": {
          "base_uri": "https://localhost:8080/"
        },
        "id": "rGMAQuSIcVmi",
        "outputId": "a776ae18-2b2f-4db0-a018-a16e5bb4e2a2"
      },
      "execution_count": null,
      "outputs": [
        {
          "output_type": "stream",
          "name": "stdout",
          "text": [
            "스위치 게임 미토피아\n"
          ]
        }
      ]
    },
    {
      "cell_type": "code",
      "source": [
        "input_name = '히프마이'\n",
        "\n",
        "if input_name == '미토피아' :\n",
        "    print(\"스위치 게임 {}\".format(input_name))\n",
        "elif input_name == \"마비노기\":\n",
        "    print(\"온라인 게임\")\n",
        "else:\n",
        "    print(\"아무것도 아님!\")"
      ],
      "metadata": {
        "colab": {
          "base_uri": "https://localhost:8080/"
        },
        "id": "KtZIYDZHclzB",
        "outputId": "938cafae-82ba-4363-db27-47ec1d08b445"
      },
      "execution_count": null,
      "outputs": [
        {
          "output_type": "stream",
          "name": "stdout",
          "text": [
            "아무것도 아님!\n"
          ]
        }
      ]
    },
    {
      "cell_type": "code",
      "source": [
        "# 반복문\n",
        "\n",
        "# 코드 양이 확 줄어듦\n",
        "# 오늘은 while"
      ],
      "metadata": {
        "id": "7mGDqvJedVsD"
      },
      "execution_count": null,
      "outputs": []
    },
    {
      "cell_type": "code",
      "source": [
        "# while 조건:      # 조건이 true 아니면 false\n",
        "#    실행할 명령1\n",
        "#    실행할 명령2\n",
        "\n",
        "# if 랑 똑같이 생김!\n",
        "# true일때 한번 돌고 맨위로 또 돌아옴\n",
        "# false가 되면 이쪽으로 나오게 됨"
      ],
      "metadata": {
        "id": "9XgNxV1Ddtty"
      },
      "execution_count": null,
      "outputs": []
    },
    {
      "cell_type": "code",
      "source": [
        "count = 0\n",
        "\n",
        "while count < 3:\n",
        "  print(\"횟수 : \", count)\n",
        "  count += 1"
      ],
      "metadata": {
        "colab": {
          "base_uri": "https://localhost:8080/"
        },
        "id": "D0B63lh-eMxp",
        "outputId": "1b305e0d-853f-4a67-bb7d-757b3506301c"
      },
      "execution_count": null,
      "outputs": [
        {
          "output_type": "stream",
          "name": "stdout",
          "text": [
            "횟수 :  0\n",
            "횟수 :  1\n",
            "횟수 :  2\n"
          ]
        }
      ]
    },
    {
      "cell_type": "code",
      "source": [
        "count = 0\n",
        "\n",
        "while count < 3:\n",
        "  print(\"횟수 : {}\".format(count))\n",
        "  count += 1"
      ],
      "metadata": {
        "colab": {
          "base_uri": "https://localhost:8080/"
        },
        "id": "L7OIMeBjeVx-",
        "outputId": "efd7b374-acfc-42b4-d7da-aa8a7cddcf4f"
      },
      "execution_count": null,
      "outputs": [
        {
          "output_type": "stream",
          "name": "stdout",
          "text": [
            "횟수 : 0\n",
            "횟수 : 1\n",
            "횟수 : 2\n"
          ]
        }
      ]
    },
    {
      "cell_type": "code",
      "source": [
        "# 무한루프\n",
        "\n",
        "#count = 0\n",
        "\n",
        "#while count < 3:\n",
        "#  print(\"횟수 : {}\".format(count))\n",
        "\n",
        "\n",
        "# 컨트롤c 누르면 중지됨 도스도 가능"
      ],
      "metadata": {
        "id": "6r3kFhOBeecu"
      },
      "execution_count": null,
      "outputs": []
    },
    {
      "cell_type": "code",
      "source": [
        "# continue\n",
        "# break\n",
        "\n",
        "# 반복문 안에서 쓸 수 있는 키워드\n",
        "\n",
        "# continue : 밑에 있는 문장을 실행하지 않고 바로 조건문, 위로 다시 올라감\n",
        "# break : 반복문을 그냥 끝내버림, 무한루프 끝낼 수 있음"
      ],
      "metadata": {
        "id": "o5cqeKAkfI4y"
      },
      "execution_count": null,
      "outputs": []
    },
    {
      "cell_type": "code",
      "source": [
        "count = 0\n",
        "\n",
        "while count < 10:\n",
        "  count += 1\n",
        "  if count <4:\n",
        "    continue\n",
        "  print('횟수 : ', count)\n",
        "  if count == 8:\n",
        "    break"
      ],
      "metadata": {
        "colab": {
          "base_uri": "https://localhost:8080/"
        },
        "id": "sZcJjI3XftYK",
        "outputId": "cb98a1f6-6015-4e62-ee6c-abf7d890dd65"
      },
      "execution_count": null,
      "outputs": [
        {
          "output_type": "stream",
          "name": "stdout",
          "text": [
            "횟수 :  4\n",
            "횟수 :  5\n",
            "횟수 :  6\n",
            "횟수 :  7\n",
            "횟수 :  8\n"
          ]
        }
      ]
    },
    {
      "cell_type": "code",
      "source": [
        "# 컨티뉴, 브레이크까지 함 # 41부터"
      ],
      "metadata": {
        "id": "omZViQiyS3kz"
      },
      "execution_count": null,
      "outputs": []
    },
    {
      "cell_type": "code",
      "source": [
        "# 딕셔너리 - {} 중괄호\n",
        "# 키와 값이 쌍으로 이루어져 있는것것\n",
        "\n",
        "# 리스트랑 비슷함 여러개값을 관리함\n",
        "# 리스트와 다른점 : 딕셔너리는 관련된 정보를 서로 연관시킴\n",
        "\n",
        "# {key1: val1, }\n",
        "# 리스트는 1번위치값, 2번위치값 이런걸 숫자를 통해서 가져옴\n",
        "# 딕셔너리는 키를 통해서 가져옴, 어떻게 보면 이름을 붙이는것"
      ],
      "metadata": {
        "id": "4sTCzKPK_qDi"
      },
      "execution_count": null,
      "outputs": []
    },
    {
      "cell_type": "code",
      "source": [
        "my_dict = {}"
      ],
      "metadata": {
        "id": "lKR6FWU_BegU"
      },
      "execution_count": null,
      "outputs": []
    },
    {
      "cell_type": "code",
      "source": [
        "my_dict"
      ],
      "metadata": {
        "colab": {
          "base_uri": "https://localhost:8080/"
        },
        "id": "SH2eMUjjBgRH",
        "outputId": "b7c8e70c-dba2-4f5e-a9ed-6466583e4b5c"
      },
      "execution_count": null,
      "outputs": [
        {
          "output_type": "execute_result",
          "data": {
            "text/plain": [
              "{}"
            ]
          },
          "metadata": {},
          "execution_count": 2
        }
      ]
    },
    {
      "cell_type": "code",
      "source": [
        "type(my_dict)"
      ],
      "metadata": {
        "colab": {
          "base_uri": "https://localhost:8080/"
        },
        "id": "03li5KfnBhCM",
        "outputId": "4c44c4a2-cb16-4709-a30e-6b7d88cfdc0b"
      },
      "execution_count": null,
      "outputs": [
        {
          "output_type": "execute_result",
          "data": {
            "text/plain": [
              "dict"
            ]
          },
          "metadata": {},
          "execution_count": 3
        }
      ]
    },
    {
      "cell_type": "code",
      "source": [
        "my_dict[0] = 'a'"
      ],
      "metadata": {
        "id": "kGoHsWrxBiRo"
      },
      "execution_count": null,
      "outputs": []
    },
    {
      "cell_type": "code",
      "source": [
        "my_dict\n",
        "# 0이 키 문자열 a가 값"
      ],
      "metadata": {
        "colab": {
          "base_uri": "https://localhost:8080/"
        },
        "id": "e8XEyhk5BoGR",
        "outputId": "6d4d3eb9-31b9-4078-fe9f-dc2b1684e5b3"
      },
      "execution_count": null,
      "outputs": [
        {
          "output_type": "execute_result",
          "data": {
            "text/plain": [
              "{0: 'a'}"
            ]
          },
          "metadata": {},
          "execution_count": 5
        }
      ]
    },
    {
      "cell_type": "code",
      "source": [
        "my_dict['b'] = 2 # 문자열도 가능, 2라는 숫자가 값 아까랑 반대"
      ],
      "metadata": {
        "id": "kQDnUP3rBpGQ"
      },
      "execution_count": null,
      "outputs": []
    },
    {
      "cell_type": "code",
      "source": [
        "my_dict"
      ],
      "metadata": {
        "colab": {
          "base_uri": "https://localhost:8080/"
        },
        "id": "ts2sz5E2Bum4",
        "outputId": "74f392ea-7b79-4138-b0f6-2a7288043be8"
      },
      "execution_count": null,
      "outputs": [
        {
          "output_type": "execute_result",
          "data": {
            "text/plain": [
              "{0: 'a', 'b': 2}"
            ]
          },
          "metadata": {},
          "execution_count": 7
        }
      ]
    },
    {
      "cell_type": "code",
      "source": [
        "my_dict['소금빵'] = '미지엄'"
      ],
      "metadata": {
        "id": "HUo5quhZBvUP"
      },
      "execution_count": null,
      "outputs": []
    },
    {
      "cell_type": "code",
      "source": [
        "my_dict"
      ],
      "metadata": {
        "colab": {
          "base_uri": "https://localhost:8080/"
        },
        "id": "5aWyf3EHB4cP",
        "outputId": "1c297d8f-663d-4476-d2c0-d98f5dcfa2af"
      },
      "execution_count": null,
      "outputs": [
        {
          "output_type": "execute_result",
          "data": {
            "text/plain": [
              "{0: 'a', 'b': 2, '소금빵': '미지엄'}"
            ]
          },
          "metadata": {},
          "execution_count": 9
        }
      ]
    },
    {
      "cell_type": "code",
      "source": [
        "my_dict['소금빵']"
      ],
      "metadata": {
        "colab": {
          "base_uri": "https://localhost:8080/",
          "height": 36
        },
        "id": "GojhG7ZnB5_A",
        "outputId": "f2ac142f-0dfe-4796-9c6e-fa3b40ac70a7"
      },
      "execution_count": null,
      "outputs": [
        {
          "output_type": "execute_result",
          "data": {
            "text/plain": [
              "'미지엄'"
            ],
            "application/vnd.google.colaboratory.intrinsic+json": {
              "type": "string"
            }
          },
          "metadata": {},
          "execution_count": 10
        }
      ]
    },
    {
      "cell_type": "code",
      "source": [
        "print(my_dict['소금빵'])"
      ],
      "metadata": {
        "colab": {
          "base_uri": "https://localhost:8080/"
        },
        "id": "2T25ykuzKyyt",
        "outputId": "40cb86b5-7474-4470-ff7c-05e69b3ed206"
      },
      "execution_count": null,
      "outputs": [
        {
          "output_type": "stream",
          "name": "stdout",
          "text": [
            "미지엄\n"
          ]
        }
      ]
    },
    {
      "cell_type": "code",
      "source": [
        "# 딕셔너리 삭제\n",
        "\n",
        "del my_dict[0]"
      ],
      "metadata": {
        "id": "92zExrzLK1TX"
      },
      "execution_count": null,
      "outputs": []
    },
    {
      "cell_type": "code",
      "source": [
        "my_dict"
      ],
      "metadata": {
        "colab": {
          "base_uri": "https://localhost:8080/"
        },
        "id": "a9JJNVh0K7kE",
        "outputId": "51badf78-9035-47bf-b68f-b292f47212c9"
      },
      "execution_count": null,
      "outputs": [
        {
          "output_type": "execute_result",
          "data": {
            "text/plain": [
              "{'b': 2, '소금빵': '미지엄'}"
            ]
          },
          "metadata": {},
          "execution_count": 14
        }
      ]
    },
    {
      "cell_type": "code",
      "source": [
        "my_dict['크리스피도넛'] = '글레이즈드'"
      ],
      "metadata": {
        "id": "IKxy_cESNPb_"
      },
      "execution_count": null,
      "outputs": []
    },
    {
      "cell_type": "code",
      "source": [
        "# 함수 : 어떤 기능을 수행하기 위해서 코드를 모아놓은 것 - 코드의 모음\n",
        "# 메서드 : 함수의 일종, 딕셔너리만 사용할 수 있는 함수, 리스트만 사용할 수 있는 함수 이런식임"
      ],
      "metadata": {
        "id": "2w8xQdp8LAHg"
      },
      "execution_count": null,
      "outputs": []
    },
    {
      "cell_type": "code",
      "source": [
        "for bread in my_dict.values (): # 뒤에 .values를 붙이면 값만 가져와서 전달\n",
        "  print(bread)"
      ],
      "metadata": {
        "colab": {
          "base_uri": "https://localhost:8080/"
        },
        "id": "WJ65DsMeNDE5",
        "outputId": "1d87580d-b1e0-40e2-95a6-7b58721c79b9"
      },
      "execution_count": null,
      "outputs": [
        {
          "output_type": "stream",
          "name": "stdout",
          "text": [
            "2\n",
            "미지엄\n",
            "글레이즈드\n"
          ]
        }
      ]
    },
    {
      "cell_type": "code",
      "source": [
        "for bread in my_dict :\n",
        "  print(bread)"
      ],
      "metadata": {
        "colab": {
          "base_uri": "https://localhost:8080/"
        },
        "id": "7j_DjSveNsIN",
        "outputId": "e539e351-d78b-4b9a-a3da-ec97e3b5330f"
      },
      "execution_count": null,
      "outputs": [
        {
          "output_type": "stream",
          "name": "stdout",
          "text": [
            "b\n",
            "소금빵\n",
            "크리스피도넛\n"
          ]
        }
      ]
    },
    {
      "cell_type": "code",
      "source": [
        "for bread in my_dict.keys() :\n",
        "  print(bread)"
      ],
      "metadata": {
        "colab": {
          "base_uri": "https://localhost:8080/"
        },
        "id": "335F_5vXN6Gi",
        "outputId": "7ce83fdf-e344-4be1-b53a-12eed33fd2e0"
      },
      "execution_count": null,
      "outputs": [
        {
          "output_type": "stream",
          "name": "stdout",
          "text": [
            "b\n",
            "소금빵\n",
            "크리스피도넛\n"
          ]
        }
      ]
    },
    {
      "cell_type": "code",
      "source": [
        "for bread in my_dict.items() : \n",
        "  print(bread)"
      ],
      "metadata": {
        "colab": {
          "base_uri": "https://localhost:8080/"
        },
        "id": "1mDqPsl1N7p4",
        "outputId": "9598f68f-62ac-439f-f059-516be80ce0da"
      },
      "execution_count": null,
      "outputs": [
        {
          "output_type": "stream",
          "name": "stdout",
          "text": [
            "('b', 2)\n",
            "('소금빵', '미지엄')\n",
            "('크리스피도넛', '글레이즈드')\n"
          ]
        }
      ]
    },
    {
      "cell_type": "code",
      "source": [
        "for key,val in my_dict.items() : # 이게 강의에서 쓴거\n",
        "  print(key, val)"
      ],
      "metadata": {
        "colab": {
          "base_uri": "https://localhost:8080/"
        },
        "id": "Kzh0omHBOKsI",
        "outputId": "5e97e842-93da-43f7-ab96-6230c9e8d9b4"
      },
      "execution_count": null,
      "outputs": [
        {
          "output_type": "stream",
          "name": "stdout",
          "text": [
            "b 2\n",
            "소금빵 미지엄\n",
            "크리스피도넛 글레이즈드\n"
          ]
        }
      ]
    },
    {
      "cell_type": "code",
      "source": [
        "# 함수\n",
        "# print, input, type 등등\n",
        "# 반복되는 코드를 묶어서 이름을 붙여놓은것, 다시쓸 수 있게\n",
        "# 반죽에 별모양 틀 틀 찍으면 별모양 나오는것처럼 별모양양 틀이 함수"
      ],
      "metadata": {
        "id": "SbXVdLnIOQLt"
      },
      "execution_count": null,
      "outputs": []
    },
    {
      "cell_type": "code",
      "source": [
        "# 1. 내장함수 : print같은거 바로 쓸 수 있음\n",
        "# 2. 모듈함수 : import 해서 가져다가 쓸 수 있는 함수\n",
        "# 3. 사용자 정의 함수 : 함수를 직접 만든것"
      ],
      "metadata": {
        "id": "A-dX5bDaPzIS"
      },
      "execution_count": null,
      "outputs": []
    },
    {
      "cell_type": "code",
      "source": [
        "# def 함수이름 (인자1, ...) : # 인자 = 매개변수, 입력값이 있을수도 있고 없을수도 있음\n",
        "#   실행할명령1\n",
        "#   실행할 명령2\n",
        "\n",
        "\n",
        "#   return 결과 # 있어도 되고 없어도 되긴하는데 결과값을 돌려줌줌"
      ],
      "metadata": {
        "id": "6nj1wi87P6cl"
      },
      "execution_count": null,
      "outputs": []
    },
    {
      "cell_type": "code",
      "source": [
        "# 함수를 사용하는 이유\n",
        "\n",
        "# 1. 만들어놓으면 다시 사용할 수 있음\n",
        "# 2. 코드를 관리하기가 쉬워짐\n",
        "\n",
        "# 마술모자 100개를 만들어야 하는데 함수를 안쓰면\n",
        "# 각각 해리포터꺼 론꺼 헤르미온느꺼 만들어야 해서서 너무 길어짐\n",
        "\n",
        "#.3. 조립해서 사용할 수 있음\n",
        "# 슬리데린 모자, 그리핀도르 모자를 하나에 쌓아둘 수도 있음 = 모듈"
      ],
      "metadata": {
        "id": "Q4Jev_jlQLCt"
      },
      "execution_count": null,
      "outputs": []
    },
    {
      "cell_type": "code",
      "source": [
        "def add(num1, num2) :\n",
        "  return num1 + num2"
      ],
      "metadata": {
        "id": "uVIab8-AXygq"
      },
      "execution_count": null,
      "outputs": []
    },
    {
      "cell_type": "code",
      "source": [
        "add(1,2) # 함수를 호출"
      ],
      "metadata": {
        "colab": {
          "base_uri": "https://localhost:8080/"
        },
        "id": "FUAcH9AUX6kU",
        "outputId": "3355f0fd-1723-4e1b-b489-7a504d8168af"
      },
      "execution_count": null,
      "outputs": [
        {
          "output_type": "execute_result",
          "data": {
            "text/plain": [
              "3"
            ]
          },
          "metadata": {},
          "execution_count": 27
        }
      ]
    },
    {
      "cell_type": "code",
      "source": [
        "# 여러개를 돌려받는법\n",
        "\n",
        "def add_mul(num1, num2) :\n",
        "  return num1 + num2, num1 * num2"
      ],
      "metadata": {
        "id": "DwbT7rxKX7cK"
      },
      "execution_count": null,
      "outputs": []
    },
    {
      "cell_type": "code",
      "source": [
        "add_mul(1,2)"
      ],
      "metadata": {
        "colab": {
          "base_uri": "https://localhost:8080/"
        },
        "id": "7F9nscLRYra0",
        "outputId": "15ed3dba-40c7-4db6-b80a-b1b81b89d72a"
      },
      "execution_count": null,
      "outputs": [
        {
          "output_type": "execute_result",
          "data": {
            "text/plain": [
              "(3, 2)"
            ]
          },
          "metadata": {},
          "execution_count": 29
        }
      ]
    },
    {
      "cell_type": "code",
      "source": [
        "# 위에서 튜플로 받아옴\n",
        "# 값이 여러개 있으면 튜플로 받아옴!\n",
        "\n",
        "# 패킹, 언패킹이 되는거임\n",
        "# 결론적으로 함수는 한개의 튜플을 반환한다다"
      ],
      "metadata": {
        "id": "jDbmnSKQYssv"
      },
      "execution_count": null,
      "outputs": []
    },
    {
      "cell_type": "code",
      "source": [
        "my_add, my_mul = add_mul(1,2)"
      ],
      "metadata": {
        "id": "xZ11FLQ3bBQd"
      },
      "execution_count": null,
      "outputs": []
    },
    {
      "cell_type": "code",
      "source": [
        "my_add"
      ],
      "metadata": {
        "colab": {
          "base_uri": "https://localhost:8080/"
        },
        "id": "4J1HRPkpbFVm",
        "outputId": "0e67331f-e49f-4346-909a-2203a7753e87"
      },
      "execution_count": null,
      "outputs": [
        {
          "output_type": "execute_result",
          "data": {
            "text/plain": [
              "3"
            ]
          },
          "metadata": {},
          "execution_count": 33
        }
      ]
    },
    {
      "cell_type": "code",
      "source": [
        "my_mul"
      ],
      "metadata": {
        "colab": {
          "base_uri": "https://localhost:8080/"
        },
        "id": "HXSoBLJHbF_G",
        "outputId": "109bc956-234d-44eb-b404-9791ab7e642a"
      },
      "execution_count": null,
      "outputs": [
        {
          "output_type": "execute_result",
          "data": {
            "text/plain": [
              "2"
            ]
          },
          "metadata": {},
          "execution_count": 34
        }
      ]
    },
    {
      "cell_type": "code",
      "source": [
        "# 모듈 : 비슷한 함수들을 모아놓은 파일 import로 쓰는것\n",
        "# 우리가 직접 만들 수 있고(비추천), 다른사람꺼 가져올 수 있고, 파이썬애 내장된것도 있음"
      ],
      "metadata": {
        "id": "AViHbPrpbH7N"
      },
      "execution_count": null,
      "outputs": []
    },
    {
      "cell_type": "code",
      "source": [
        "# ex : random 모듈을 한번 써보기"
      ],
      "metadata": {
        "id": "XUkDI1bZbm9_"
      },
      "execution_count": null,
      "outputs": []
    },
    {
      "cell_type": "code",
      "source": [
        "import random\n",
        "\n",
        "fruit = ['사과', '배', '오렌지']"
      ],
      "metadata": {
        "id": "TPggSsVxdNBJ"
      },
      "execution_count": null,
      "outputs": []
    },
    {
      "cell_type": "code",
      "source": [
        "random.choice(fruit)"
      ],
      "metadata": {
        "colab": {
          "base_uri": "https://localhost:8080/",
          "height": 36
        },
        "id": "TfmIziwYdiSd",
        "outputId": "a816ba1f-1005-4075-b123-e9f714397266"
      },
      "execution_count": null,
      "outputs": [
        {
          "output_type": "execute_result",
          "data": {
            "text/plain": [
              "'사과'"
            ],
            "application/vnd.google.colaboratory.intrinsic+json": {
              "type": "string"
            }
          },
          "metadata": {},
          "execution_count": 38
        }
      ]
    },
    {
      "cell_type": "code",
      "source": [
        "fruit.append('레드향')"
      ],
      "metadata": {
        "id": "gc_86yfadmIK"
      },
      "execution_count": null,
      "outputs": []
    },
    {
      "cell_type": "code",
      "source": [
        "print(random.choice(fruit)) # 랜덤으로 값을 뽑아줌"
      ],
      "metadata": {
        "colab": {
          "base_uri": "https://localhost:8080/"
        },
        "id": "3kgrplBxdpJN",
        "outputId": "c92b71ee-2bf7-4296-d074-c628f30fb6be"
      },
      "execution_count": null,
      "outputs": [
        {
          "output_type": "stream",
          "name": "stdout",
          "text": [
            "레드향\n"
          ]
        }
      ]
    },
    {
      "cell_type": "code",
      "source": [
        "random.sample(fruit, 2) # sample은 여러개의 값을 중복없이 한번에 뽑아줌\n",
        "# 뒤에 input 값이 들어가야 실행됨 아니면 오류"
      ],
      "metadata": {
        "colab": {
          "base_uri": "https://localhost:8080/"
        },
        "id": "PZF1-zRpdqd7",
        "outputId": "b2a156cf-521b-4e11-83a4-e726d159792b"
      },
      "execution_count": null,
      "outputs": [
        {
          "output_type": "execute_result",
          "data": {
            "text/plain": [
              "['배', '레드향']"
            ]
          },
          "metadata": {},
          "execution_count": 49
        }
      ]
    },
    {
      "cell_type": "code",
      "source": [
        "random.sample(range(1,10), 4)"
      ],
      "metadata": {
        "colab": {
          "base_uri": "https://localhost:8080/"
        },
        "id": "OJrFEucVd2XD",
        "outputId": "a163561e-89bf-4d33-dc27-761b05acffff"
      },
      "execution_count": null,
      "outputs": [
        {
          "output_type": "execute_result",
          "data": {
            "text/plain": [
              "[3, 2, 6, 4]"
            ]
          },
          "metadata": {},
          "execution_count": 51
        }
      ]
    },
    {
      "cell_type": "code",
      "source": [
        "random.randint(1, 10) # 숫자의 범위를 지정해서 그 숫자 중에 하나를 선택함"
      ],
      "metadata": {
        "colab": {
          "base_uri": "https://localhost:8080/"
        },
        "id": "GOk44fZLd_CL",
        "outputId": "d15cec1a-c924-4782-e1ad-c35e1674d39e"
      },
      "execution_count": null,
      "outputs": [
        {
          "output_type": "execute_result",
          "data": {
            "text/plain": [
              "9"
            ]
          },
          "metadata": {},
          "execution_count": 54
        }
      ]
    },
    {
      "cell_type": "code",
      "source": [
        "# 외우지 말고 모듈 쓰는거 해본거임"
      ],
      "metadata": {
        "id": "bONdiqwIeOkH"
      },
      "execution_count": null,
      "outputs": []
    },
    {
      "cell_type": "code",
      "source": [
        "# object < - 파이썬은 대부분이 객체임\n",
        "\n",
        "# 객체는 현실의 물체,사물을 컴퓨터로 재현한것임\n",
        "# 프로그램이 현실의 문제를 해결하기 위해 만든거라 객체도 반드시 필요함함\n",
        "# 함수와 데이터를 한꺼번에 묶어서 만들어놓은것\n",
        "# 파이썬의 대부분의 것들이 객체임!\n",
        "\n",
        "# 기타를 만들기 위해 함수와 데이터를 모아야함\n",
        "# 용사라는 객체의 아이템인 데이터 : 레벨, 체력, 마나, 포션\n",
        "# 용사라는 객체의 행동인 함수 : 이동한다, 뛴다, 휘두른다"
      ],
      "metadata": {
        "id": "PxfgVQMYeavx"
      },
      "execution_count": null,
      "outputs": []
    },
    {
      "cell_type": "code",
      "source": [
        "my_list = [1,2,3] # <- 객체 레벨 마나 포션을 가지고 있음\n",
        "my_list.append(4) # <- 행동인 list가 append라는 함수를 가지고 있음"
      ],
      "metadata": {
        "id": "Hfj24oeBf-un"
      },
      "execution_count": null,
      "outputs": []
    },
    {
      "cell_type": "code",
      "source": [
        "my_list"
      ],
      "metadata": {
        "colab": {
          "base_uri": "https://localhost:8080/"
        },
        "id": "6chftePpgKwx",
        "outputId": "9bdf0b82-01ad-4e0c-993a-9e96f44862d2"
      },
      "execution_count": null,
      "outputs": [
        {
          "output_type": "execute_result",
          "data": {
            "text/plain": [
              "[1, 2, 3, 4]"
            ]
          },
          "metadata": {},
          "execution_count": 57
        }
      ]
    },
    {
      "cell_type": "code",
      "source": [
        "# 코딩스타일\n",
        "\n",
        "# 코드를 보기 좋게 작성하기\n",
        "# pep8 <ㅡ 만든사람(귀도반)이 제안하는 제안서\n",
        "# 한글로도 쳐보면 번역번이 있음"
      ],
      "metadata": {
        "id": "vRG1RWB3gL-d"
      },
      "execution_count": null,
      "outputs": []
    },
    {
      "cell_type": "code",
      "source": [
        "# 한 화면에 80글자를 못넘는 기계가 있어서 79글자까지만 쓰기\n",
        "# 등등"
      ],
      "metadata": {
        "id": "LkXYqGwJhnSm"
      },
      "execution_count": null,
      "outputs": []
    },
    {
      "cell_type": "code",
      "source": [
        "# 구글링\n",
        "\n",
        "from datetime import datetime\n",
        "\n",
        "datetime.now()                # 현재 날짜 가져오기  \n",
        "print(datetime.now())         # 이게 더 깔끔함함 \n",
        "\n",
        "# 한국어 자료가 한계가 있어서\n",
        "# 나중에는 영어자료를 찾을 필요가 있음 그땐 네이버<<<구글임"
      ],
      "metadata": {
        "colab": {
          "base_uri": "https://localhost:8080/"
        },
        "id": "jte3QyzcjBUa",
        "outputId": "322519db-05d8-49b3-d46d-2b017416ba51"
      },
      "execution_count": null,
      "outputs": [
        {
          "output_type": "stream",
          "name": "stdout",
          "text": [
            "2023-01-22 17:45:11.684098\n"
          ]
        }
      ]
    },
    {
      "cell_type": "code",
      "source": [
        "# 스택오버플로우 팁!\n",
        "\n",
        "# 1. 일단 질문건너뛰기 - 질문은 잘못된 코드가 올라와있어서 답변부터 보기\n",
        "# 2. 일단 코드부터 보기 - import 된거 모르면 검색하기"
      ],
      "metadata": {
        "id": "QHakC8mYlc3l"
      },
      "execution_count": null,
      "outputs": []
    },
    {
      "cell_type": "code",
      "source": [
        "# import, from import 차이\n",
        "# import 만 쓰면 np.test\n",
        "# from ~~ import 쓰면 test만 써도 넘파이로 됨\n",
        "\n",
        "# from 패키지 import 함수 형태로 사용하는 문법에서는\n",
        "# 패키지 이름.함수 이름 형태가 아니라 함수 이름 단독으로 바로 사용이 가능해집니다."
      ],
      "metadata": {
        "id": "U-RYH2vNkbTc"
      },
      "execution_count": null,
      "outputs": []
    },
    {
      "cell_type": "code",
      "source": [
        "import numpy as np\n",
        "from numpy import linalg as LA\n",
        "from numpy.linalg import norm\n",
        "\n",
        "# 위의 3가지 import 형태 순서와 매칭되는 함수 사용 형태 순서\n",
        "np.linalg.norm([1, 3, 5])\n",
        "LA.norm([1, 3, 5])\n",
        "norm([1, 3, 5])"
      ],
      "metadata": {
        "id": "6w2gcJDqkzE2"
      },
      "execution_count": null,
      "outputs": []
    },
    {
      "cell_type": "code",
      "source": [
        "# 겹칠때는 패키지 명을 포함한 import 형태를 사용하시거나,\n",
        "\n",
        "# 꼭 필요한 함수만 from import로 따로 가져오기"
      ],
      "metadata": {
        "id": "5wFb2Hmvk4yH"
      },
      "execution_count": null,
      "outputs": []
    }
  ]
}