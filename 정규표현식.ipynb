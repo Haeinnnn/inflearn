{
  "nbformat": 4,
  "nbformat_minor": 0,
  "metadata": {
    "colab": {
      "provenance": []
    },
    "kernelspec": {
      "name": "python3",
      "display_name": "Python 3"
    },
    "language_info": {
      "name": "python"
    }
  },
  "cells": [
    {
      "cell_type": "code",
      "execution_count": 32,
      "metadata": {
        "id": "OL9mdlMmU_ye"
      },
      "outputs": [],
      "source": [
        "# 정규표현식 공부\n",
        "\n",
        "text = \"()(안 빈 소괄호)[][안빈괄호]김해인고객님, 고객님의abc(무료)\""
      ]
    },
    {
      "cell_type": "code",
      "source": [
        "import re"
      ],
      "metadata": {
        "id": "Z4sh1NWtVUvr"
      },
      "execution_count": 2,
      "outputs": []
    },
    {
      "cell_type": "code",
      "source": [
        "print(re.sub(\"\\)\\(\", \"\", text))"
      ],
      "metadata": {
        "colab": {
          "base_uri": "https://localhost:8080/"
        },
        "id": "a4E-1B6PVG1-",
        "outputId": "1c6e75c9-0a9f-4e15-b2b3-315285c6ea4d"
      },
      "execution_count": 3,
      "outputs": [
        {
          "output_type": "stream",
          "name": "stdout",
          "text": [
            "(안 빈 소괄호)[][안빈괄호]김해인고객님,고객님의\n"
          ]
        }
      ]
    },
    {
      "cell_type": "code",
      "source": [
        "print(re.sub(\"\\[\\]\", \"\", text))"
      ],
      "metadata": {
        "colab": {
          "base_uri": "https://localhost:8080/"
        },
        "id": "NZe087j_VWn8",
        "outputId": "23d57b3f-1063-42b0-8d0d-472cb1f6347e"
      },
      "execution_count": 4,
      "outputs": [
        {
          "output_type": "stream",
          "name": "stdout",
          "text": [
            "()(안 빈 소괄호)[안빈괄호]김해인고객님,고객님의\n"
          ]
        }
      ]
    },
    {
      "cell_type": "code",
      "source": [
        "print(re.sub(\"]...고객님\", \"]고객님\", text))"
      ],
      "metadata": {
        "colab": {
          "base_uri": "https://localhost:8080/"
        },
        "id": "rW-ivy0ru3JZ",
        "outputId": "c571c08a-56b5-4bd2-b6ae-1181b6028118"
      },
      "execution_count": 8,
      "outputs": [
        {
          "output_type": "stream",
          "name": "stdout",
          "text": [
            "()(안 빈 소괄호)[][안빈괄호]고객님,고객님의\n"
          ]
        }
      ]
    },
    {
      "cell_type": "code",
      "source": [
        "print(text.split(\"(무료)\")[:-1])"
      ],
      "metadata": {
        "colab": {
          "base_uri": "https://localhost:8080/"
        },
        "id": "ACcr5MFzv4ko",
        "outputId": "238fc97a-8e22-4732-a9a4-4c72d000c2f9"
      },
      "execution_count": 20,
      "outputs": [
        {
          "output_type": "stream",
          "name": "stdout",
          "text": [
            "['()(안 빈 소괄호)[][안빈괄호]김해인고객님,고객님의']\n"
          ]
        }
      ]
    },
    {
      "cell_type": "code",
      "source": [
        "print(text.split(\"(무료)\")[0])"
      ],
      "metadata": {
        "colab": {
          "base_uri": "https://localhost:8080/"
        },
        "id": "IQk4Q8n9wfk0",
        "outputId": "2e05fddc-76c9-4132-b4c9-2553aa231343"
      },
      "execution_count": 21,
      "outputs": [
        {
          "output_type": "stream",
          "name": "stdout",
          "text": [
            "()(안 빈 소괄호)[][안빈괄호]김해인고객님,고객님의\n"
          ]
        }
      ]
    },
    {
      "cell_type": "code",
      "source": [
        "print(re.sub(\"[^a-z가-힣A-Z]\\]\\[\\)\\(]\", \"\", text))"
      ],
      "metadata": {
        "colab": {
          "base_uri": "https://localhost:8080/"
        },
        "id": "u_Tzt3kBwqln",
        "outputId": "773462c0-6eff-4d96-c789-20e568e475a6"
      },
      "execution_count": 41,
      "outputs": [
        {
          "output_type": "stream",
          "name": "stdout",
          "text": [
            "()(안 빈 소괄호)[][안빈괄호]김해인고객님, 고객님의abc(무료)\n"
          ]
        }
      ]
    },
    {
      "cell_type": "code",
      "source": [],
      "metadata": {
        "id": "SFDldzsEwy7h"
      },
      "execution_count": null,
      "outputs": []
    }
  ]
}